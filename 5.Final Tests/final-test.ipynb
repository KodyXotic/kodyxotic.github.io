{
 "cells": [
  {
   "cell_type": "code",
   "execution_count": 1,
   "id": "1729d03d",
   "metadata": {
    "_cell_guid": "b1076dfc-b9ad-4769-8c92-a6c4dae69d19",
    "_uuid": "8f2839f25d086af736a60e9eeb907d3b93b6e0e5",
    "execution": {
     "iopub.execute_input": "2023-09-15T09:49:06.219025Z",
     "iopub.status.busy": "2023-09-15T09:49:06.218539Z",
     "iopub.status.idle": "2023-09-15T09:49:06.271157Z",
     "shell.execute_reply": "2023-09-15T09:49:06.269961Z"
    },
    "papermill": {
     "duration": 0.064766,
     "end_time": "2023-09-15T09:49:06.274238",
     "exception": false,
     "start_time": "2023-09-15T09:49:06.209472",
     "status": "completed"
    },
    "tags": []
   },
   "outputs": [
    {
     "name": "stdout",
     "output_type": "stream",
     "text": [
      "/kaggle/input/cifar10-final-test/SMOTEd_NK/final_model.pth\n",
      "/kaggle/input/cifar10-final-test/SMOTEd_NK/bst_model.pth\n",
      "/kaggle/input/cifar10-final-test/No_Synthetic_AE/final_model.pth\n",
      "/kaggle/input/cifar10-final-test/No_Synthetic_AE/bst_model.pth\n",
      "/kaggle/input/cifar10-final-test/test_lab_imb/test_lab_imb\n",
      "/kaggle/input/cifar10-final-test/test_img/test_img\n",
      "/kaggle/input/cifar10-final-test/test_img_imb/test_img_imb\n",
      "/kaggle/input/cifar10-final-test/test_lab/test_lab\n"
     ]
    }
   ],
   "source": [
    "# This Python 3 environment comes with many helpful analytics libraries installed\n",
    "# It is defined by the kaggle/python Docker image: https://github.com/kaggle/docker-python\n",
    "# For example, here's several helpful packages to load\n",
    "\n",
    "import numpy as np # linear algebra\n",
    "import pandas as pd # data processing, CSV file I/O (e.g. pd.read_csv)\n",
    "\n",
    "# Input data files are available in the read-only \"../input/\" directory\n",
    "# For example, running this (by clicking run or pressing Shift+Enter) will list all files under the input directory\n",
    "\n",
    "import os\n",
    "for dirname, _, filenames in os.walk('/kaggle/input'):\n",
    "    for filename in filenames:\n",
    "        print(os.path.join(dirname, filename))\n",
    "\n",
    "# You can write up to 20GB to the current directory (/kaggle/working/) that gets preserved as output when you create a version using \"Save & Run All\" \n",
    "# You can also write temporary files to /kaggle/temp/, but they won't be saved outside of the current session"
   ]
  },
  {
   "cell_type": "code",
   "execution_count": 2,
   "id": "f176e42d",
   "metadata": {
    "execution": {
     "iopub.execute_input": "2023-09-15T09:49:06.287604Z",
     "iopub.status.busy": "2023-09-15T09:49:06.287159Z",
     "iopub.status.idle": "2023-09-15T09:49:22.211329Z",
     "shell.execute_reply": "2023-09-15T09:49:22.210029Z"
    },
    "papermill": {
     "duration": 15.934461,
     "end_time": "2023-09-15T09:49:22.214604",
     "exception": false,
     "start_time": "2023-09-15T09:49:06.280143",
     "status": "completed"
    },
    "tags": []
   },
   "outputs": [
    {
     "name": "stdout",
     "output_type": "stream",
     "text": [
      "Requirement already satisfied: imbalanced-learn in /opt/conda/lib/python3.7/site-packages (0.10.1)\r\n",
      "Collecting imbalanced-learn\r\n",
      "  Downloading imbalanced_learn-0.11.0-py3-none-any.whl (235 kB)\r\n",
      "\u001b[2K     \u001b[90m━━━━━━━━━━━━━━━━━━━━━━━━━━━━━━━━━━━━━━━\u001b[0m \u001b[32m235.6/235.6 kB\u001b[0m \u001b[31m7.0 MB/s\u001b[0m eta \u001b[36m0:00:00\u001b[0m\r\n",
      "\u001b[?25hRequirement already satisfied: scikit-learn>=1.0.2 in /opt/conda/lib/python3.7/site-packages (from imbalanced-learn) (1.0.2)\r\n",
      "Requirement already satisfied: scipy>=1.5.0 in /opt/conda/lib/python3.7/site-packages (from imbalanced-learn) (1.7.3)\r\n",
      "Requirement already satisfied: joblib>=1.1.1 in /opt/conda/lib/python3.7/site-packages (from imbalanced-learn) (1.2.0)\r\n",
      "Requirement already satisfied: threadpoolctl>=2.0.0 in /opt/conda/lib/python3.7/site-packages (from imbalanced-learn) (3.1.0)\r\n",
      "Requirement already satisfied: numpy>=1.17.3 in /opt/conda/lib/python3.7/site-packages (from imbalanced-learn) (1.21.6)\r\n",
      "Installing collected packages: imbalanced-learn\r\n",
      "  Attempting uninstall: imbalanced-learn\r\n",
      "    Found existing installation: imbalanced-learn 0.10.1\r\n",
      "    Uninstalling imbalanced-learn-0.10.1:\r\n",
      "      Successfully uninstalled imbalanced-learn-0.10.1\r\n",
      "Successfully installed imbalanced-learn-0.11.0\r\n",
      "\u001b[33mWARNING: Running pip as the 'root' user can result in broken permissions and conflicting behaviour with the system package manager. It is recommended to use a virtual environment instead: https://pip.pypa.io/warnings/venv\u001b[0m\u001b[33m\r\n",
      "\u001b[0m"
     ]
    }
   ],
   "source": [
    "!pip install -U imbalanced-learn"
   ]
  },
  {
   "cell_type": "code",
   "execution_count": 3,
   "id": "ca52b622",
   "metadata": {
    "execution": {
     "iopub.execute_input": "2023-09-15T09:49:22.233540Z",
     "iopub.status.busy": "2023-09-15T09:49:22.233074Z",
     "iopub.status.idle": "2023-09-15T09:49:26.670466Z",
     "shell.execute_reply": "2023-09-15T09:49:26.669013Z"
    },
    "papermill": {
     "duration": 4.449682,
     "end_time": "2023-09-15T09:49:26.673759",
     "exception": false,
     "start_time": "2023-09-15T09:49:22.224077",
     "status": "completed"
    },
    "tags": []
   },
   "outputs": [],
   "source": [
    "import torch, torchvision\n",
    "import matplotlib.pyplot as plt\n",
    "import sklearn.metrics as metrics\n",
    "from imblearn.metrics import geometric_mean_score\n",
    "# from sklearn.model_selection import train_test_split"
   ]
  },
  {
   "cell_type": "code",
   "execution_count": 4,
   "id": "8d00ebae",
   "metadata": {
    "execution": {
     "iopub.execute_input": "2023-09-15T09:49:26.690507Z",
     "iopub.status.busy": "2023-09-15T09:49:26.688923Z",
     "iopub.status.idle": "2023-09-15T09:49:26.703188Z",
     "shell.execute_reply": "2023-09-15T09:49:26.702228Z"
    },
    "papermill": {
     "duration": 0.025485,
     "end_time": "2023-09-15T09:49:26.706009",
     "exception": false,
     "start_time": "2023-09-15T09:49:26.680524",
     "status": "completed"
    },
    "tags": []
   },
   "outputs": [],
   "source": [
    "from torch.utils.data import Dataset\n",
    "import PIL.Image as Image\n",
    "\n",
    "# Method 1: define customDataset class, succeed from Dataset class\n",
    "class customDataset(Dataset):\n",
    "    def __init__(self, datapath, labelpath, transform=None):\n",
    "        # --------------------------------------------\n",
    "        # load file from paths, check dtype, reshape, transform, prepare array-like object for getitem method\n",
    "        # --------------------------------------------\n",
    "        \n",
    "        dec_x = np.loadtxt(datapath)\n",
    "        dec_y = np.loadtxt(labelpath)\n",
    "        dec_y = dec_y.astype('long')\n",
    "        dec_x = dec_x.reshape(dec_x.shape[0], 3, 32, 32) # channel-first image\n",
    "        \n",
    "        #PIL_x = Image.fromarray(dec_x)\n",
    "        #PIL_x = Image.fromarray(np.uint8(dec_x), mode='RGB')\n",
    "        #tensor_y = torch.tensor(dec_y,dtype=torch.long)\n",
    "        \n",
    "        self.transform = transform\n",
    "        \n",
    "        self.imgs = dec_x\n",
    "        self.labs = dec_y       \n",
    "        \n",
    "    def __getitem__(self, index):\n",
    "        # --------------------------------------------\n",
    "        # 1. Use index to get item from array-like object\n",
    "        # 2. Preprocess the data (PIL.Image, torchvision.Transform).\n",
    "        # 3. Return the data (e.g. image and label)\n",
    "        # --------------------------------------------\n",
    "        imgcf = self.imgs[index] # shape = (3, 32, 32), channel-first\n",
    "        #print('the shape of np_imgcf: {}'.format(imgcf.shape)) # the shape of np_img: (3, 32, 32)\n",
    "        imgcl = np.moveaxis(imgcf, 0, -1)  # change to channel-last\n",
    "        #print('the shape of np_imgcl: {}'.format(imgcl.shape)) # the shape of np_img: (32, 32, 3)\n",
    "        \n",
    "        imgcl = (imgcl + 1) / 2 * 255 # denormalize to fit Image.fromarray()\n",
    "        #print('the max of np_img: {}'.format(imgcl.max()))   # 255\n",
    "        #print('the min of np_img: {}'.format(imgcl.min()))   # 0  \n",
    "        img = Image.fromarray(np.uint8(imgcl), mode='RGB')\n",
    "        #print('the size of img: {}'.format(img.size))      # (32, 32)\n",
    "        \n",
    "        \n",
    "        lab = self.labs[index]\n",
    "        if self.transform is not None:\n",
    "            img = self.transform(img)\n",
    "        return img, lab\n",
    "        \n",
    "        \n",
    "    def __len__(self):\n",
    "        # --------------------------------------------\n",
    "        # Indicate the total size of the dataset\n",
    "        # --------------------------------------------\n",
    "        return len(self.imgs)"
   ]
  },
  {
   "cell_type": "code",
   "execution_count": 5,
   "id": "4efa2617",
   "metadata": {
    "execution": {
     "iopub.execute_input": "2023-09-15T09:49:26.721555Z",
     "iopub.status.busy": "2023-09-15T09:49:26.721130Z",
     "iopub.status.idle": "2023-09-15T09:49:26.727880Z",
     "shell.execute_reply": "2023-09-15T09:49:26.726488Z"
    },
    "papermill": {
     "duration": 0.017608,
     "end_time": "2023-09-15T09:49:26.730490",
     "exception": false,
     "start_time": "2023-09-15T09:49:26.712882",
     "status": "completed"
    },
    "tags": []
   },
   "outputs": [],
   "source": [
    "import torch.nn as nn\n",
    "import torch.optim as optim\n",
    "import torchvision.transforms as transforms\n",
    "from torchvision.models import resnet18\n",
    "from torch.utils.data import DataLoader\n",
    "from torch.optim import lr_scheduler"
   ]
  },
  {
   "cell_type": "code",
   "execution_count": 6,
   "id": "bee79e7f",
   "metadata": {
    "execution": {
     "iopub.execute_input": "2023-09-15T09:49:26.748210Z",
     "iopub.status.busy": "2023-09-15T09:49:26.747711Z",
     "iopub.status.idle": "2023-09-15T09:50:20.856580Z",
     "shell.execute_reply": "2023-09-15T09:50:20.855240Z"
    },
    "papermill": {
     "duration": 54.121976,
     "end_time": "2023-09-15T09:50:20.860287",
     "exception": false,
     "start_time": "2023-09-15T09:49:26.738311",
     "status": "completed"
    },
    "tags": []
   },
   "outputs": [],
   "source": [
    "# device: 是否使用GPU\n",
    "device = torch.device('cuda' if torch.cuda.is_available() else 'cpu')\n",
    "\n",
    "# Hyper parameter: epochs, batch size, learning rate\n",
    "epochs = 100\n",
    "epoch_count = 0\n",
    "bs = 128\n",
    "lr = 0.001\n",
    "\n",
    "# Load Data and data processing\n",
    "#If the image is torch Tensor, it is expected to have […, H, W] shape,\n",
    "\n",
    "#modpath = '/kaggle/input/cifar10-final-test/bst_model.pth'\n",
    "modpath = '/kaggle/input/cifar10-final-test/No_Synthetic_AE/bst_model.pth'\n",
    "\n",
    "test_dpath = '/kaggle/input/cifar10-final-test/test_img/test_img'\n",
    "test_lpath = '/kaggle/input/cifar10-final-test/test_lab/test_lab'\n",
    "imb_test_dpath = '/kaggle/input/cifar10-final-test/test_img_imb/test_img_imb'\n",
    "imb_test_lpath = '/kaggle/input/cifar10-final-test/test_lab_imb/test_lab_imb'\n",
    "\n",
    "transform_test = transforms.Compose([\n",
    "    #transforms.ToPILImage(),\n",
    "    transforms.ToTensor(),\n",
    "    transforms.Normalize((0.4914, 0.4822, 0.4465), (0.2023, 0.1994, 0.2010)),\n",
    "    #transforms.Normalize((0.1307,), (0.3081,)),\n",
    "])\n",
    "\n",
    "\n",
    "testset = customDataset(test_dpath,test_lpath, transform=transform_test)\n",
    "imbtestset = customDataset(imb_test_dpath,imb_test_lpath, transform=transform_test)\n",
    "testloader = DataLoader(testset, batch_size=100, shuffle=True, num_workers=2)\n",
    "imbtestloader = DataLoader(imbtestset, batch_size=100, shuffle=True, num_workers=2)\n",
    "\n",
    "\n",
    "# Class labels\n",
    "classes = ('plane', 'car', 'bird', 'cat', 'deer', 'dog', 'frog', 'horse', 'ship', 'truck')\n",
    "\n",
    "test_accuracy = []"
   ]
  },
  {
   "cell_type": "code",
   "execution_count": 7,
   "id": "382ee98c",
   "metadata": {
    "execution": {
     "iopub.execute_input": "2023-09-15T09:50:20.876253Z",
     "iopub.status.busy": "2023-09-15T09:50:20.875783Z",
     "iopub.status.idle": "2023-09-15T09:50:21.662674Z",
     "shell.execute_reply": "2023-09-15T09:50:21.660902Z"
    },
    "papermill": {
     "duration": 0.798483,
     "end_time": "2023-09-15T09:50:21.665865",
     "exception": false,
     "start_time": "2023-09-15T09:50:20.867382",
     "status": "completed"
    },
    "tags": []
   },
   "outputs": [
    {
     "name": "stdout",
     "output_type": "stream",
     "text": [
      "Final balanced Testing Start!\n",
      "Ready to Test!\n"
     ]
    }
   ],
   "source": [
    "\n",
    "# Final Testing\n",
    "\n",
    "print(\"Final balanced Testing Start!\")\n",
    "# Model instantiation\n",
    "model = resnet18()\n",
    "\n",
    "# [MNIST-only] change default in_channel from 3 to 1\n",
    "#model.conv1 = nn.Conv2d(1, 64, kernel_size=(7, 7), stride=(2, 2), padding=(3, 3), bias=False) \n",
    "\n",
    "# change fc layer \n",
    "# the number of classes in our dataset is 10. default is 1000.\n",
    "num_ftrs = model.fc.in_features\n",
    "model.fc = nn.Linear(num_ftrs, 10)\n",
    "model.load_state_dict(torch.load(modpath), strict=False)\n",
    "model = model.to(device)\n",
    "print('Ready to Test!')\n",
    "\n",
    "\n",
    "\n"
   ]
  },
  {
   "cell_type": "code",
   "execution_count": 8,
   "id": "ebd1ab86",
   "metadata": {
    "execution": {
     "iopub.execute_input": "2023-09-15T09:50:21.682251Z",
     "iopub.status.busy": "2023-09-15T09:50:21.681753Z",
     "iopub.status.idle": "2023-09-15T09:50:21.692893Z",
     "shell.execute_reply": "2023-09-15T09:50:21.691534Z"
    },
    "papermill": {
     "duration": 0.022201,
     "end_time": "2023-09-15T09:50:21.695506",
     "exception": false,
     "start_time": "2023-09-15T09:50:21.673305",
     "status": "completed"
    },
    "tags": []
   },
   "outputs": [
    {
     "data": {
      "text/plain": [
       "\"\\n# F1-score\\n\\nwith torch.no_grad():\\n    #correct = 0\\n    #total = 0\\n    \\n    for data in imbtestloader:\\n        model.eval()\\n        images, labels = data\\n        images, labels = images.to(device), labels.to(device)\\n        outputs = model(images)\\n        _, predicted = torch.max(outputs.data, dim=1)\\n        #total += labels.size(0)\\n        #correct += (predicted == labels).sum()\\n        labels = labels.cpu().numpy()\\n        predicted = predicted.cpu().numpy()\\n        f1 = metrics.f1_score(labels, predicted, average='macro')\\n        print('F1 Score: {:.3%}'.format(f1))\\n        acc = f1\\n        acc = acc.item()\\n        test_accuracy.append(acc)\\n\""
      ]
     },
     "execution_count": 8,
     "metadata": {},
     "output_type": "execute_result"
    }
   ],
   "source": [
    "'''\n",
    "# F1-score\n",
    "\n",
    "with torch.no_grad():\n",
    "    #correct = 0\n",
    "    #total = 0\n",
    "    \n",
    "    for data in imbtestloader:\n",
    "        model.eval()\n",
    "        images, labels = data\n",
    "        images, labels = images.to(device), labels.to(device)\n",
    "        outputs = model(images)\n",
    "        _, predicted = torch.max(outputs.data, dim=1)\n",
    "        #total += labels.size(0)\n",
    "        #correct += (predicted == labels).sum()\n",
    "        labels = labels.cpu().numpy()\n",
    "        predicted = predicted.cpu().numpy()\n",
    "        f1 = metrics.f1_score(labels, predicted, average='macro')\n",
    "        print('F1 Score: {:.3%}'.format(f1))\n",
    "        acc = f1\n",
    "        acc = acc.item()\n",
    "        test_accuracy.append(acc)\n",
    "'''"
   ]
  },
  {
   "cell_type": "code",
   "execution_count": 9,
   "id": "38211d58",
   "metadata": {
    "execution": {
     "iopub.execute_input": "2023-09-15T09:50:21.712383Z",
     "iopub.status.busy": "2023-09-15T09:50:21.711118Z",
     "iopub.status.idle": "2023-09-15T09:50:21.721155Z",
     "shell.execute_reply": "2023-09-15T09:50:21.719562Z"
    },
    "papermill": {
     "duration": 0.021328,
     "end_time": "2023-09-15T09:50:21.723936",
     "exception": false,
     "start_time": "2023-09-15T09:50:21.702608",
     "status": "completed"
    },
    "tags": []
   },
   "outputs": [
    {
     "data": {
      "text/plain": [
       "\"\\n# Average Class Specific Accuracy\\n\\nwith torch.no_grad():\\n    #correct = 0\\n    #total = 0\\n    \\n    for data in imbtestloader:\\n        model.eval()\\n        images, labels = data\\n        images, labels = images.to(device), labels.to(device)\\n        outputs = model(images)\\n        _, predicted = torch.max(outputs.data, dim=1)\\n        #total += labels.size(0)\\n        #correct += (predicted == labels).sum()\\n        labels = labels.cpu().numpy()\\n        predicted = predicted.cpu().numpy()\\n        matrix = metrics.confusion_matrix(labels, predicted, normalize='true')\\n        classacc = matrix.diagonal()\\n        #print('The Class Specific Accuracy: ' , classacc)\\n        #print('Length of classacc: ', len(classacc))\\n        #print('Sum of accuracy: ' , classacc.sum())\\n        acsa = classacc.sum() / len(classacc)\\n        print('ACSA: {:.3%}'.format(acsa))\\n        acc = acsa\\n        acc = acc.item()\\n        test_accuracy.append(acc)\\n\""
      ]
     },
     "execution_count": 9,
     "metadata": {},
     "output_type": "execute_result"
    }
   ],
   "source": [
    "'''\n",
    "# Average Class Specific Accuracy\n",
    "\n",
    "with torch.no_grad():\n",
    "    #correct = 0\n",
    "    #total = 0\n",
    "    \n",
    "    for data in imbtestloader:\n",
    "        model.eval()\n",
    "        images, labels = data\n",
    "        images, labels = images.to(device), labels.to(device)\n",
    "        outputs = model(images)\n",
    "        _, predicted = torch.max(outputs.data, dim=1)\n",
    "        #total += labels.size(0)\n",
    "        #correct += (predicted == labels).sum()\n",
    "        labels = labels.cpu().numpy()\n",
    "        predicted = predicted.cpu().numpy()\n",
    "        matrix = metrics.confusion_matrix(labels, predicted, normalize='true')\n",
    "        classacc = matrix.diagonal()\n",
    "        #print('The Class Specific Accuracy: ' , classacc)\n",
    "        #print('Length of classacc: ', len(classacc))\n",
    "        #print('Sum of accuracy: ' , classacc.sum())\n",
    "        acsa = classacc.sum() / len(classacc)\n",
    "        print('ACSA: {:.3%}'.format(acsa))\n",
    "        acc = acsa\n",
    "        acc = acc.item()\n",
    "        test_accuracy.append(acc)\n",
    "'''"
   ]
  },
  {
   "cell_type": "code",
   "execution_count": 10,
   "id": "e5fdbf6e",
   "metadata": {
    "execution": {
     "iopub.execute_input": "2023-09-15T09:50:21.740652Z",
     "iopub.status.busy": "2023-09-15T09:50:21.740145Z",
     "iopub.status.idle": "2023-09-15T09:50:25.272145Z",
     "shell.execute_reply": "2023-09-15T09:50:25.270108Z"
    },
    "papermill": {
     "duration": 3.544261,
     "end_time": "2023-09-15T09:50:25.275370",
     "exception": false,
     "start_time": "2023-09-15T09:50:21.731109",
     "status": "completed"
    },
    "tags": []
   },
   "outputs": [
    {
     "name": "stdout",
     "output_type": "stream",
     "text": [
      "GM: 66.637%\n",
      "GM: 63.894%\n",
      "GM: 55.351%\n",
      "GM: 64.464%\n",
      "GM: 75.914%\n",
      "GM: 67.682%\n",
      "GM: 72.659%\n",
      "GM: 71.614%\n",
      "GM: 72.583%\n",
      "GM: 64.662%\n",
      "GM: 64.580%\n",
      "GM: 66.249%\n",
      "GM: 66.160%\n",
      "GM: 58.867%\n",
      "GM: 61.862%\n",
      "GM: 69.270%\n",
      "GM: 68.206%\n",
      "GM: 57.597%\n",
      "GM: 61.106%\n",
      "GM: 57.086%\n",
      "GM: 61.955%\n",
      "GM: 68.251%\n",
      "GM: 63.258%\n"
     ]
    }
   ],
   "source": [
    "\n",
    "# Geometric Mean\n",
    "\n",
    "with torch.no_grad():\n",
    "    #correct = 0\n",
    "    #total = 0\n",
    "    \n",
    "    for data in imbtestloader:\n",
    "        model.eval()\n",
    "        images, labels = data\n",
    "        images, labels = images.to(device), labels.to(device)\n",
    "        outputs = model(images)\n",
    "        _, predicted = torch.max(outputs.data, dim=1)\n",
    "        #total += labels.size(0)\n",
    "        #correct += (predicted == labels).sum()\n",
    "        labels = labels.cpu().numpy()\n",
    "        predicted = predicted.cpu().numpy()\n",
    "        gm = geometric_mean_score(labels, predicted, average='macro')\n",
    "        print('GM: {:.3%}'.format(gm))\n",
    "        acc = gm\n",
    "        acc = acc.item()\n",
    "        test_accuracy.append(acc)\n"
   ]
  },
  {
   "cell_type": "code",
   "execution_count": 11,
   "id": "9ef96b12",
   "metadata": {
    "execution": {
     "iopub.execute_input": "2023-09-15T09:50:25.296779Z",
     "iopub.status.busy": "2023-09-15T09:50:25.296229Z",
     "iopub.status.idle": "2023-09-15T09:50:25.756545Z",
     "shell.execute_reply": "2023-09-15T09:50:25.755054Z"
    },
    "papermill": {
     "duration": 0.475378,
     "end_time": "2023-09-15T09:50:25.760203",
     "exception": false,
     "start_time": "2023-09-15T09:50:25.284825",
     "status": "completed"
    },
    "tags": []
   },
   "outputs": [
    {
     "data": {
      "image/png": "[encoded data removed]",
      "text/plain": [
       "<Figure size 1000x500 with 1 Axes>"
      ]
     },
     "metadata": {},
     "output_type": "display_data"
    }
   ],
   "source": [
    "# Drawing\n",
    "\n",
    "import matplotlib.pyplot as plt\n",
    "%matplotlib inline \n",
    "\n",
    "plt.rcParams[\"figure.figsize\"] = [7.00, 3.50]\n",
    "plt.rcParams[\"figure.autolayout\"] = True\n",
    "\n",
    "plt.figure(figsize=(10,5))\n",
    "plt.title(\"Test Accuracy Every Epoch\")\n",
    "plt.plot(test_accuracy,label=\"Accuracy\")\n",
    "plt.xlabel(\"epochs\")\n",
    "plt.ylabel(\"Test Accuracy\")\n",
    "plt.legend()\n",
    "plt.savefig('Accuracy.png')\n",
    "plt.show()"
   ]
  },
  {
   "cell_type": "code",
   "execution_count": 12,
   "id": "c3961f73",
   "metadata": {
    "execution": {
     "iopub.execute_input": "2023-09-15T09:50:25.782197Z",
     "iopub.status.busy": "2023-09-15T09:50:25.781717Z",
     "iopub.status.idle": "2023-09-15T09:50:25.789213Z",
     "shell.execute_reply": "2023-09-15T09:50:25.787953Z"
    },
    "papermill": {
     "duration": 0.02193,
     "end_time": "2023-09-15T09:50:25.792208",
     "exception": false,
     "start_time": "2023-09-15T09:50:25.770278",
     "status": "completed"
    },
    "tags": []
   },
   "outputs": [],
   "source": [
    "np.savetxt('results.txt', np.array(test_accuracy))"
   ]
  },
  {
   "cell_type": "code",
   "execution_count": 13,
   "id": "1006cff0",
   "metadata": {
    "execution": {
     "iopub.execute_input": "2023-09-15T09:50:25.813653Z",
     "iopub.status.busy": "2023-09-15T09:50:25.812777Z",
     "iopub.status.idle": "2023-09-15T09:50:25.819588Z",
     "shell.execute_reply": "2023-09-15T09:50:25.818245Z"
    },
    "papermill": {
     "duration": 0.020774,
     "end_time": "2023-09-15T09:50:25.822549",
     "exception": false,
     "start_time": "2023-09-15T09:50:25.801775",
     "status": "completed"
    },
    "tags": []
   },
   "outputs": [
    {
     "name": "stdout",
     "output_type": "stream",
     "text": [
      "0.6521336301017225\n"
     ]
    }
   ],
   "source": [
    "avg = sum(test_accuracy)/len(test_accuracy)\n",
    "print(avg)"
   ]
  }
 ],
 "metadata": {
  "kernelspec": {
   "display_name": "Python 3",
   "language": "python",
   "name": "python3"
  },
  "language_info": {
   "codemirror_mode": {
    "name": "ipython",
    "version": 3
   },
   "file_extension": ".py",
   "mimetype": "text/x-python",
   "name": "python",
   "nbconvert_exporter": "python",
   "pygments_lexer": "ipython3",
   "version": "3.7.12"
  },
  "papermill": {
   "default_parameters": {},
   "duration": 94.380339,
   "end_time": "2023-09-15T09:50:27.158384",
   "environment_variables": {},
   "exception": null,
   "input_path": "__notebook__.ipynb",
   "output_path": "__notebook__.ipynb",
   "parameters": {},
   "start_time": "2023-09-15T09:48:52.778045",
   "version": "2.4.0"
  }
 },
 "nbformat": 4,
 "nbformat_minor": 5
}
