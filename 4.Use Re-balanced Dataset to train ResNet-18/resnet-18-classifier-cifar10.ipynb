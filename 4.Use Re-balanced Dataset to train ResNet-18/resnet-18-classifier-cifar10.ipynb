{
 "cells": [
  {
   "cell_type": "code",
   "execution_count": 1,
   "id": "fd52bb0a",
   "metadata": {
    "_cell_guid": "b1076dfc-b9ad-4769-8c92-a6c4dae69d19",
    "_uuid": "8f2839f25d086af736a60e9eeb907d3b93b6e0e5",
    "execution": {
     "iopub.execute_input": "2023-09-15T04:31:48.465019Z",
     "iopub.status.busy": "2023-09-15T04:31:48.464259Z",
     "iopub.status.idle": "2023-09-15T04:31:48.507234Z",
     "shell.execute_reply": "2023-09-15T04:31:48.505591Z"
    },
    "papermill": {
     "duration": 0.052853,
     "end_time": "2023-09-15T04:31:48.509845",
     "exception": false,
     "start_time": "2023-09-15T04:31:48.456992",
     "status": "completed"
    },
    "tags": []
   },
   "outputs": [
    {
     "name": "stdout",
     "output_type": "stream",
     "text": [
      "/kaggle/input/smoted-comparison/SMOTEd_NK/0_trn_lab\n",
      "/kaggle/input/smoted-comparison/SMOTEd_NK/0_trn_img\n",
      "/kaggle/input/smoted-comparison/Imb_CIFAR10/trn_lab_imb\n",
      "/kaggle/input/smoted-comparison/Imb_CIFAR10/trn_img_imb\n",
      "/kaggle/input/smoted-comparison/valid_label/3_valid_label\n",
      "/kaggle/input/smoted-comparison/valid_label/0_valid_label\n",
      "/kaggle/input/smoted-comparison/valid_label/4_valid_label\n",
      "/kaggle/input/smoted-comparison/valid_label/1_valid_label\n",
      "/kaggle/input/smoted-comparison/valid_label/2_valid_label\n",
      "/kaggle/input/smoted-comparison/valid_data/2_valid_data\n",
      "/kaggle/input/smoted-comparison/valid_data/4_valid_data\n",
      "/kaggle/input/smoted-comparison/valid_data/3_valid_data\n",
      "/kaggle/input/smoted-comparison/valid_data/1_valid_data\n",
      "/kaggle/input/smoted-comparison/valid_data/0_valid_data\n"
     ]
    }
   ],
   "source": [
    "# This Python 3 environment comes with many helpful analytics libraries installed\n",
    "# It is defined by the kaggle/python Docker image: https://github.com/kaggle/docker-python\n",
    "# For example, here's several helpful packages to load\n",
    "\n",
    "import numpy as np # linear algebra\n",
    "import pandas as pd # data processing, CSV file I/O (e.g. pd.read_csv)\n",
    "\n",
    "# Input data files are available in the read-only \"../input/\" directory\n",
    "# For example, running this (by clicking run or pressing Shift+Enter) will list all files under the input directory\n",
    "\n",
    "import os\n",
    "for dirname, _, filenames in os.walk('/kaggle/input'):\n",
    "    for filename in filenames:\n",
    "        print(os.path.join(dirname, filename))\n",
    "\n",
    "# You can write up to 20GB to the current directory (/kaggle/working/) that gets preserved as output when you create a version using \"Save & Run All\" \n",
    "# You can also write temporary files to /kaggle/temp/, but they won't be saved outside of the current session"
   ]
  },
  {
   "cell_type": "code",
   "execution_count": 2,
   "id": "9a2ffa82",
   "metadata": {
    "execution": {
     "iopub.execute_input": "2023-09-15T04:31:48.520401Z",
     "iopub.status.busy": "2023-09-15T04:31:48.519992Z",
     "iopub.status.idle": "2023-09-15T04:31:51.633647Z",
     "shell.execute_reply": "2023-09-15T04:31:51.631838Z"
    },
    "papermill": {
     "duration": 3.121952,
     "end_time": "2023-09-15T04:31:51.636332",
     "exception": false,
     "start_time": "2023-09-15T04:31:48.514380",
     "status": "completed"
    },
    "tags": []
   },
   "outputs": [],
   "source": [
    "import torch, torchvision\n",
    "import matplotlib.pyplot as plt\n",
    "import sklearn.metrics as metrics\n",
    "# from sklearn.model_selection import train_test_split"
   ]
  },
  {
   "cell_type": "markdown",
   "id": "269749f8",
   "metadata": {
    "papermill": {
     "duration": 0.004135,
     "end_time": "2023-09-15T04:31:51.645145",
     "exception": false,
     "start_time": "2023-09-15T04:31:51.641010",
     "status": "completed"
    },
    "tags": []
   },
   "source": [
    "# 載入自訂格式的資料集"
   ]
  },
  {
   "cell_type": "markdown",
   "id": "ddf77938",
   "metadata": {
    "papermill": {
     "duration": 0.003947,
     "end_time": "2023-09-15T04:31:51.653357",
     "exception": false,
     "start_time": "2023-09-15T04:31:51.649410",
     "status": "completed"
    },
    "tags": []
   },
   "source": [
    "## 方法一：自定義 customDataset"
   ]
  },
  {
   "cell_type": "markdown",
   "id": "773b4dd5",
   "metadata": {
    "papermill": {
     "duration": 0.00387,
     "end_time": "2023-09-15T04:31:51.661505",
     "exception": false,
     "start_time": "2023-09-15T04:31:51.657635",
     "status": "completed"
    },
    "tags": []
   },
   "source": [
    "* 繼承 torch.utils.data 中的 Dataset 類別\n",
    "* 實作 __init__()、 __get_item__()、 __len__() 三個方法"
   ]
  },
  {
   "cell_type": "code",
   "execution_count": 3,
   "id": "a36fd0ce",
   "metadata": {
    "_kg_hide-input": false,
    "execution": {
     "iopub.execute_input": "2023-09-15T04:31:51.672505Z",
     "iopub.status.busy": "2023-09-15T04:31:51.671247Z",
     "iopub.status.idle": "2023-09-15T04:31:51.682685Z",
     "shell.execute_reply": "2023-09-15T04:31:51.681231Z"
    },
    "papermill": {
     "duration": 0.019672,
     "end_time": "2023-09-15T04:31:51.685348",
     "exception": false,
     "start_time": "2023-09-15T04:31:51.665676",
     "status": "completed"
    },
    "tags": []
   },
   "outputs": [],
   "source": [
    "from torch.utils.data import Dataset\n",
    "import PIL.Image as Image\n",
    "\n",
    "# Method 1: define customDataset class, succeed from Dataset class\n",
    "class customDataset(Dataset):\n",
    "    def __init__(self, datapath, labelpath, transform=None):\n",
    "        # --------------------------------------------\n",
    "        # load file from paths, check dtype, reshape, transform, prepare array-like object for getitem method\n",
    "        # --------------------------------------------\n",
    "        \n",
    "        dec_x = np.loadtxt(datapath)\n",
    "        dec_y = np.loadtxt(labelpath)\n",
    "        dec_y = dec_y.astype('long')\n",
    "        dec_x = dec_x.reshape(dec_x.shape[0], 3, 32, 32) # channel-first image\n",
    "        \n",
    "        #PIL_x = Image.fromarray(dec_x)\n",
    "        #PIL_x = Image.fromarray(np.uint8(dec_x), mode='RGB')\n",
    "        #tensor_y = torch.tensor(dec_y,dtype=torch.long)\n",
    "        \n",
    "        self.transform = transform\n",
    "        \n",
    "        self.imgs = dec_x\n",
    "        self.labs = dec_y       \n",
    "        \n",
    "    def __getitem__(self, index):\n",
    "        # --------------------------------------------\n",
    "        # 1. Use index to get item from array-like object\n",
    "        # 2. Preprocess the data (PIL.Image, torchvision.Transform).\n",
    "        # 3. Return the data (e.g. image and label)\n",
    "        # --------------------------------------------\n",
    "        imgcf = self.imgs[index] # shape = (3, 32, 32), channel-first\n",
    "        #print('the shape of np_imgcf: {}'.format(imgcf.shape)) # the shape of np_img: (3, 32, 32)\n",
    "        imgcl = np.moveaxis(imgcf, 0, -1)  # change to channel-last\n",
    "        #print('the shape of np_imgcl: {}'.format(imgcl.shape)) # the shape of np_img: (32, 32, 3)\n",
    "        \n",
    "        imgcl = (imgcl + 1) / 2 * 255 # denormalize to fit Image.fromarray()\n",
    "        #print('the max of np_img: {}'.format(imgcl.max()))   # 255\n",
    "        #print('the min of np_img: {}'.format(imgcl.min()))   # 0  \n",
    "        img = Image.fromarray(np.uint8(imgcl), mode='RGB')\n",
    "        #print('the size of img: {}'.format(img.size))      # (32, 32)\n",
    "        \n",
    "        \n",
    "        lab = self.labs[index]\n",
    "        if self.transform is not None:\n",
    "            img = self.transform(img)\n",
    "        return img, lab\n",
    "        \n",
    "        \n",
    "    def __len__(self):\n",
    "        # --------------------------------------------\n",
    "        # Indicate the total size of the dataset\n",
    "        # --------------------------------------------\n",
    "        return len(self.imgs)\n"
   ]
  },
  {
   "cell_type": "code",
   "execution_count": 4,
   "id": "ec4a23e1",
   "metadata": {
    "execution": {
     "iopub.execute_input": "2023-09-15T04:31:51.696605Z",
     "iopub.status.busy": "2023-09-15T04:31:51.696030Z",
     "iopub.status.idle": "2023-09-15T04:31:51.705689Z",
     "shell.execute_reply": "2023-09-15T04:31:51.704447Z"
    },
    "papermill": {
     "duration": 0.017789,
     "end_time": "2023-09-15T04:31:51.707816",
     "exception": false,
     "start_time": "2023-09-15T04:31:51.690027",
     "status": "completed"
    },
    "tags": []
   },
   "outputs": [
    {
     "data": {
      "text/plain": [
       "'\\ndec_x = np.loadtxt(datapath)\\ndec_y = np.loadtxt(labelpath)\\ndec_x = dec_x.reshape(dec_x.shape[0],1,28,28)\\ntensor_x = torch.Tensor(dec_x)\\ntensor_y = torch.tensor(dec_y,dtype=torch.long)\\nmnist = TensorDataset(tensor_x,tensor_y) \\n'"
      ]
     },
     "execution_count": 4,
     "metadata": {},
     "output_type": "execute_result"
    }
   ],
   "source": [
    "# Method 2: Use TensorDataset\n",
    "'''\n",
    "dec_x = np.loadtxt(datapath)\n",
    "dec_y = np.loadtxt(labelpath)\n",
    "dec_x = dec_x.reshape(dec_x.shape[0],1,28,28)\n",
    "tensor_x = torch.Tensor(dec_x)\n",
    "tensor_y = torch.tensor(dec_y,dtype=torch.long)\n",
    "mnist = TensorDataset(tensor_x,tensor_y) \n",
    "'''"
   ]
  },
  {
   "cell_type": "markdown",
   "id": "e74faab5",
   "metadata": {
    "papermill": {
     "duration": 0.0042,
     "end_time": "2023-09-15T04:31:51.716667",
     "exception": false,
     "start_time": "2023-09-15T04:31:51.712467",
     "status": "completed"
    },
    "tags": []
   },
   "source": [
    "# 訓練"
   ]
  },
  {
   "cell_type": "code",
   "execution_count": 5,
   "id": "486cfabb",
   "metadata": {
    "execution": {
     "iopub.execute_input": "2023-09-15T04:31:51.727978Z",
     "iopub.status.busy": "2023-09-15T04:31:51.727357Z",
     "iopub.status.idle": "2023-09-15T04:32:51.319093Z",
     "shell.execute_reply": "2023-09-15T04:32:51.317770Z"
    },
    "papermill": {
     "duration": 59.600294,
     "end_time": "2023-09-15T04:32:51.321559",
     "exception": false,
     "start_time": "2023-09-15T04:31:51.721265",
     "status": "completed"
    },
    "tags": []
   },
   "outputs": [],
   "source": [
    "import torch.nn as nn\n",
    "import torch.optim as optim\n",
    "import torchvision.transforms as transforms\n",
    "from torchvision.models import resnet18\n",
    "from torch.utils.data import DataLoader\n",
    "from torch.optim import lr_scheduler\n",
    "\n",
    "# device: 是否使用GPU\n",
    "device = torch.device('cuda' if torch.cuda.is_available() else 'cpu')\n",
    "\n",
    "# Hyper parameter: epochs, batch size, learning rate\n",
    "epochs = 4\n",
    "epoch_count = 0\n",
    "bs = 128\n",
    "lr = 0.0005\n",
    "\n",
    "# Load Data and data processing\n",
    "#If the image is torch Tensor, it is expected to have […, H, W] shape,\n",
    "\n",
    "\n",
    "train_dpath = '/kaggle/input/smoted-comparison/Imb_CIFAR10/trn_img_imb'\n",
    "train_lpath = '/kaggle/input/smoted-comparison/Imb_CIFAR10/trn_lab_imb'\n",
    "#train_dpath = '/kaggle/input/imb-trn-cifar10/trn_img_imb/trn_img_imb'\n",
    "#train_lpath = '/kaggle/input/imb-trn-cifar10/trn_lab_imb/trn_lab_imb'\n",
    "valid_dpath = '/kaggle/input/smoted-comparison/valid_data/0_valid_data'\n",
    "valid_lpath = '/kaggle/input/smoted-comparison/valid_label/0_valid_label'\n",
    "\n",
    "transform_train = transforms.Compose([\n",
    "    #transforms.RandomCrop(32, padding=4),  \n",
    "    #transforms.RandomHorizontalFlip(),  \n",
    "    #transforms.RandomCrop(28, padding=4),  # MNIST=28 Cifar=32\n",
    "    #transforms.RandomHorizontalFlip(),  # MNIST don't need to flip\n",
    "    #transforms.RandomAffine(degrees = 30),\n",
    "    #transforms.RandomPerspective(),\n",
    "    #transforms.ToPILImage(),\n",
    "    transforms.ToTensor(),\n",
    "    transforms.Normalize((0.4914, 0.4822, 0.4465), (0.2023, 0.1994, 0.2010)), #R,G,B for mean and stderr\n",
    "    #transforms.Normalize((0.1307,), (0.3081,)),\n",
    "])\n",
    "\n",
    "transform_test = transforms.Compose([\n",
    "    #transforms.ToPILImage(),\n",
    "    transforms.ToTensor(),\n",
    "    transforms.Normalize((0.4914, 0.4822, 0.4465), (0.2023, 0.1994, 0.2010)),\n",
    "    #transforms.Normalize((0.1307,), (0.3081,)),\n",
    "])\n",
    "\n",
    "trainset = customDataset(train_dpath, train_lpath, transform=transform_train)\n",
    "validset = customDataset(valid_dpath,valid_lpath, transform=transform_test)\n",
    "trainloader = DataLoader(trainset, batch_size=bs, shuffle=True, num_workers=2)\n",
    "validloader = DataLoader(validset, batch_size=100, shuffle=True, num_workers=2)\n",
    "\n",
    "\n",
    "# Class labels\n",
    "classes = ('plane', 'car', 'bird', 'cat', 'deer', 'dog', 'frog', 'horse', 'ship', 'truck')"
   ]
  },
  {
   "cell_type": "code",
   "execution_count": 6,
   "id": "fe1fcdec",
   "metadata": {
    "execution": {
     "iopub.execute_input": "2023-09-15T04:32:51.332609Z",
     "iopub.status.busy": "2023-09-15T04:32:51.332245Z",
     "iopub.status.idle": "2023-09-15T04:32:51.640270Z",
     "shell.execute_reply": "2023-09-15T04:32:51.638937Z"
    },
    "papermill": {
     "duration": 0.316441,
     "end_time": "2023-09-15T04:32:51.642869",
     "exception": false,
     "start_time": "2023-09-15T04:32:51.326428",
     "status": "completed"
    },
    "tags": []
   },
   "outputs": [
    {
     "name": "stdout",
     "output_type": "stream",
     "text": [
      "Type of imgcl:<class 'numpy.ndarray'>\n",
      "Shape of imgcl(32, 32, 3)\n",
      "Max of img: 2.7537312507629395\n",
      "min of img: -2.429065704345703\n"
     ]
    },
    {
     "data": {
      "text/plain": [
       "<matplotlib.image.AxesImage at 0x791e32590750>"
      ]
     },
     "execution_count": 6,
     "metadata": {},
     "output_type": "execute_result"
    },
    {
     "data": {
      "image/png": "[encoded data removed]",
      "text/plain": [
       "<Figure size 432x288 with 1 Axes>"
      ]
     },
     "metadata": {
      "needs_background": "light"
     },
     "output_type": "display_data"
    }
   ],
   "source": [
    "for i, data in enumerate(trainloader, 0):\n",
    "    inputs, labels = data\n",
    "    img = inputs[15]\n",
    "    img = img.numpy()\n",
    "    imgcl = np.moveaxis(img, 0, -1)\n",
    "    print('Type of imgcl:{}'.format(type(imgcl)))\n",
    "    print('Shape of imgcl{}'.format(imgcl.shape))\n",
    "    print('Max of img: {}'.format(inputs.max()))\n",
    "    print('min of img: {}'.format(inputs.min()))\n",
    "    break \n",
    "plt.imshow(imgcl)"
   ]
  },
  {
   "cell_type": "code",
   "execution_count": 7,
   "id": "1b0e7b86",
   "metadata": {
    "execution": {
     "iopub.execute_input": "2023-09-15T04:32:51.654720Z",
     "iopub.status.busy": "2023-09-15T04:32:51.654249Z",
     "iopub.status.idle": "2023-09-15T04:37:05.219916Z",
     "shell.execute_reply": "2023-09-15T04:37:05.218800Z"
    },
    "papermill": {
     "duration": 253.59986,
     "end_time": "2023-09-15T04:37:05.247796",
     "exception": false,
     "start_time": "2023-09-15T04:32:51.647936",
     "status": "completed"
    },
    "tags": []
   },
   "outputs": [
    {
     "name": "stdout",
     "output_type": "stream",
     "text": [
      "Start Training, Resnet-18!\n",
      "\n",
      "Epoch: 1\n",
      "[epoch: 1, iter: 1] Loss: 2.427 | Acc: 8.932%\n",
      "[epoch: 1, iter: 2] Loss: 2.297 | Acc: 10.401%\n",
      "[epoch: 1, iter: 3] Loss: 2.072 | Acc: 20.546%\n",
      "[epoch: 1, iter: 4] Loss: 1.949 | Acc: 20.416%\n",
      "[epoch: 1, iter: 5] Loss: 1.845 | Acc: 18.328%\n",
      "[epoch: 1, iter: 6] Loss: 1.805 | Acc: 15.918%\n",
      "[epoch: 1, iter: 7] Loss: 1.752 | Acc: 21.656%\n",
      "[epoch: 1, iter: 8] Loss: 1.728 | Acc: 17.321%\n",
      "[epoch: 1, iter: 9] Loss: 1.690 | Acc: 24.583%\n",
      "[epoch: 1, iter: 10] Loss: 1.665 | Acc: 17.621%\n",
      "[epoch: 1, iter: 11] Loss: 1.633 | Acc: 27.539%\n",
      "[epoch: 1, iter: 12] Loss: 1.614 | Acc: 21.301%\n",
      "[epoch: 1, iter: 13] Loss: 1.604 | Acc: 15.179%\n",
      "[epoch: 1, iter: 14] Loss: 1.585 | Acc: 28.208%\n",
      "[epoch: 1, iter: 15] Loss: 1.583 | Acc: 22.763%\n",
      "[epoch: 1, iter: 16] Loss: 1.569 | Acc: 25.852%\n",
      "[epoch: 1, iter: 17] Loss: 1.539 | Acc: 30.296%\n",
      "[epoch: 1, iter: 18] Loss: 1.511 | Acc: 31.840%\n",
      "[epoch: 1, iter: 19] Loss: 1.504 | Acc: 22.069%\n",
      "[epoch: 1, iter: 20] Loss: 1.494 | Acc: 22.489%\n",
      "[epoch: 1, iter: 21] Loss: 1.493 | Acc: 28.552%\n",
      "[epoch: 1, iter: 22] Loss: 1.473 | Acc: 31.982%\n",
      "[epoch: 1, iter: 23] Loss: 1.475 | Acc: 21.332%\n",
      "[epoch: 1, iter: 24] Loss: 1.470 | Acc: 28.130%\n",
      "[epoch: 1, iter: 25] Loss: 1.458 | Acc: 26.675%\n",
      "[epoch: 1, iter: 26] Loss: 1.441 | Acc: 31.533%\n",
      "[epoch: 1, iter: 27] Loss: 1.432 | Acc: 24.877%\n",
      "[epoch: 1, iter: 28] Loss: 1.425 | Acc: 26.987%\n",
      "[epoch: 1, iter: 29] Loss: 1.423 | Acc: 25.108%\n",
      "[epoch: 1, iter: 30] Loss: 1.416 | Acc: 27.833%\n",
      "[epoch: 1, iter: 31] Loss: 1.409 | Acc: 26.136%\n",
      "[epoch: 1, iter: 32] Loss: 1.402 | Acc: 26.920%\n",
      "[epoch: 1, iter: 33] Loss: 1.395 | Acc: 33.265%\n",
      "[epoch: 1, iter: 34] Loss: 1.393 | Acc: 32.246%\n",
      "[epoch: 1, iter: 35] Loss: 1.386 | Acc: 28.752%\n",
      "[epoch: 1, iter: 36] Loss: 1.382 | Acc: 24.037%\n",
      "[epoch: 1, iter: 37] Loss: 1.377 | Acc: 34.324%\n",
      "[epoch: 1, iter: 38] Loss: 1.369 | Acc: 26.813%\n",
      "[epoch: 1, iter: 39] Loss: 1.363 | Acc: 28.203%\n",
      "[epoch: 1, iter: 40] Loss: 1.357 | Acc: 27.955%\n",
      "[epoch: 1, iter: 41] Loss: 1.353 | Acc: 28.926%\n",
      "[epoch: 1, iter: 42] Loss: 1.346 | Acc: 24.496%\n",
      "[epoch: 1, iter: 43] Loss: 1.341 | Acc: 28.071%\n",
      "[epoch: 1, iter: 44] Loss: 1.336 | Acc: 23.818%\n",
      "[epoch: 1, iter: 45] Loss: 1.332 | Acc: 31.534%\n",
      "[epoch: 1, iter: 46] Loss: 1.329 | Acc: 27.558%\n",
      "[epoch: 1, iter: 47] Loss: 1.326 | Acc: 31.946%\n",
      "[epoch: 1, iter: 48] Loss: 1.320 | Acc: 28.608%\n",
      "[epoch: 1, iter: 49] Loss: 1.313 | Acc: 35.959%\n",
      "[epoch: 1, iter: 50] Loss: 1.311 | Acc: 35.442%\n",
      "[epoch: 1, iter: 51] Loss: 1.308 | Acc: 31.967%\n",
      "[epoch: 1, iter: 52] Loss: 1.305 | Acc: 33.945%\n",
      "[epoch: 1, iter: 53] Loss: 1.299 | Acc: 30.943%\n",
      "[epoch: 1, iter: 54] Loss: 1.296 | Acc: 31.694%\n",
      "[epoch: 1, iter: 55] Loss: 1.291 | Acc: 34.702%\n",
      "[epoch: 1, iter: 56] Loss: 1.290 | Acc: 20.687%\n",
      "[epoch: 1, iter: 57] Loss: 1.286 | Acc: 29.126%\n",
      "[epoch: 1, iter: 58] Loss: 1.286 | Acc: 25.584%\n",
      "[epoch: 1, iter: 59] Loss: 1.279 | Acc: 36.482%\n",
      "[epoch: 1, iter: 60] Loss: 1.276 | Acc: 30.826%\n",
      "[epoch: 1, iter: 61] Loss: 1.272 | Acc: 34.874%\n",
      "[epoch: 1, iter: 62] Loss: 1.269 | Acc: 33.958%\n",
      "[epoch: 1, iter: 63] Loss: 1.265 | Acc: 37.956%\n",
      "[epoch: 1, iter: 64] Loss: 1.262 | Acc: 33.698%\n",
      "[epoch: 1, iter: 65] Loss: 1.263 | Acc: 20.595%\n",
      "[epoch: 1, iter: 66] Loss: 1.259 | Acc: 32.328%\n",
      "[epoch: 1, iter: 67] Loss: 1.258 | Acc: 22.532%\n",
      "[epoch: 1, iter: 68] Loss: 1.254 | Acc: 31.141%\n",
      "[epoch: 1, iter: 69] Loss: 1.252 | Acc: 26.580%\n",
      "[epoch: 1, iter: 70] Loss: 1.250 | Acc: 35.836%\n",
      "[epoch: 1, iter: 71] Loss: 1.247 | Acc: 37.925%\n",
      "[epoch: 1, iter: 72] Loss: 1.245 | Acc: 28.469%\n",
      "[epoch: 1, iter: 73] Loss: 1.243 | Acc: 30.302%\n",
      "[epoch: 1, iter: 74] Loss: 1.241 | Acc: 21.967%\n",
      "[epoch: 1, iter: 75] Loss: 1.238 | Acc: 47.595%\n",
      "[epoch: 1, iter: 76] Loss: 1.235 | Acc: 32.865%\n",
      "[epoch: 1, iter: 77] Loss: 1.234 | Acc: 31.308%\n",
      "[epoch: 1, iter: 78] Loss: 1.232 | Acc: 41.199%\n",
      "[epoch: 1, iter: 79] Loss: 1.231 | Acc: 29.031%\n",
      "[epoch: 1, iter: 80] Loss: 1.229 | Acc: 37.824%\n",
      "[epoch: 1, iter: 81] Loss: 1.223 | Acc: 42.521%\n",
      "Waiting Test!\n",
      "F1 Score: 35.978%\n",
      "Saving model......\n",
      "\n",
      "Epoch: 2\n",
      "[epoch: 2, iter: 82] Loss: 0.825 | Acc: 48.891%\n",
      "[epoch: 2, iter: 83] Loss: 0.939 | Acc: 39.384%\n",
      "[epoch: 2, iter: 84] Loss: 0.947 | Acc: 33.081%\n",
      "[epoch: 2, iter: 85] Loss: 0.929 | Acc: 39.030%\n",
      "[epoch: 2, iter: 86] Loss: 0.940 | Acc: 45.050%\n",
      "[epoch: 2, iter: 87] Loss: 0.949 | Acc: 41.926%\n",
      "[epoch: 2, iter: 88] Loss: 0.917 | Acc: 52.079%\n",
      "[epoch: 2, iter: 89] Loss: 0.920 | Acc: 44.473%\n",
      "[epoch: 2, iter: 90] Loss: 0.912 | Acc: 42.001%\n",
      "[epoch: 2, iter: 91] Loss: 0.917 | Acc: 33.502%\n",
      "[epoch: 2, iter: 92] Loss: 0.911 | Acc: 42.684%\n",
      "[epoch: 2, iter: 93] Loss: 0.899 | Acc: 42.668%\n",
      "[epoch: 2, iter: 94] Loss: 0.907 | Acc: 41.165%\n",
      "[epoch: 2, iter: 95] Loss: 0.905 | Acc: 30.753%\n",
      "[epoch: 2, iter: 96] Loss: 0.904 | Acc: 42.357%\n",
      "[epoch: 2, iter: 97] Loss: 0.902 | Acc: 28.069%\n",
      "[epoch: 2, iter: 98] Loss: 0.895 | Acc: 37.665%\n",
      "[epoch: 2, iter: 99] Loss: 0.894 | Acc: 42.392%\n",
      "[epoch: 2, iter: 100] Loss: 0.892 | Acc: 55.164%\n",
      "[epoch: 2, iter: 101] Loss: 0.894 | Acc: 47.478%\n",
      "[epoch: 2, iter: 102] Loss: 0.890 | Acc: 45.297%\n",
      "[epoch: 2, iter: 103] Loss: 0.893 | Acc: 36.960%\n",
      "[epoch: 2, iter: 104] Loss: 0.894 | Acc: 43.010%\n",
      "[epoch: 2, iter: 105] Loss: 0.893 | Acc: 37.072%\n",
      "[epoch: 2, iter: 106] Loss: 0.896 | Acc: 38.016%\n",
      "[epoch: 2, iter: 107] Loss: 0.890 | Acc: 49.182%\n",
      "[epoch: 2, iter: 108] Loss: 0.887 | Acc: 49.701%\n",
      "[epoch: 2, iter: 109] Loss: 0.888 | Acc: 36.271%\n",
      "[epoch: 2, iter: 110] Loss: 0.887 | Acc: 51.924%\n",
      "[epoch: 2, iter: 111] Loss: 0.886 | Acc: 40.411%\n",
      "[epoch: 2, iter: 112] Loss: 0.886 | Acc: 36.888%\n",
      "[epoch: 2, iter: 113] Loss: 0.885 | Acc: 53.310%\n",
      "[epoch: 2, iter: 114] Loss: 0.885 | Acc: 41.527%\n",
      "[epoch: 2, iter: 115] Loss: 0.883 | Acc: 46.707%\n",
      "[epoch: 2, iter: 116] Loss: 0.879 | Acc: 48.953%\n",
      "[epoch: 2, iter: 117] Loss: 0.881 | Acc: 44.598%\n",
      "[epoch: 2, iter: 118] Loss: 0.884 | Acc: 49.104%\n",
      "[epoch: 2, iter: 119] Loss: 0.889 | Acc: 45.264%\n",
      "[epoch: 2, iter: 120] Loss: 0.892 | Acc: 37.823%\n",
      "[epoch: 2, iter: 121] Loss: 0.889 | Acc: 37.847%\n",
      "[epoch: 2, iter: 122] Loss: 0.888 | Acc: 48.269%\n",
      "[epoch: 2, iter: 123] Loss: 0.892 | Acc: 33.440%\n",
      "[epoch: 2, iter: 124] Loss: 0.892 | Acc: 28.904%\n",
      "[epoch: 2, iter: 125] Loss: 0.895 | Acc: 37.392%\n",
      "[epoch: 2, iter: 126] Loss: 0.899 | Acc: 36.306%\n",
      "[epoch: 2, iter: 127] Loss: 0.902 | Acc: 38.090%\n",
      "[epoch: 2, iter: 128] Loss: 0.905 | Acc: 35.876%\n",
      "[epoch: 2, iter: 129] Loss: 0.906 | Acc: 33.812%\n",
      "[epoch: 2, iter: 130] Loss: 0.906 | Acc: 55.920%\n",
      "[epoch: 2, iter: 131] Loss: 0.906 | Acc: 50.702%\n",
      "[epoch: 2, iter: 132] Loss: 0.906 | Acc: 51.321%\n",
      "[epoch: 2, iter: 133] Loss: 0.908 | Acc: 41.559%\n",
      "[epoch: 2, iter: 134] Loss: 0.907 | Acc: 41.002%\n",
      "[epoch: 2, iter: 135] Loss: 0.908 | Acc: 43.428%\n",
      "[epoch: 2, iter: 136] Loss: 0.909 | Acc: 35.093%\n",
      "[epoch: 2, iter: 137] Loss: 0.908 | Acc: 50.809%\n",
      "[epoch: 2, iter: 138] Loss: 0.907 | Acc: 39.812%\n",
      "[epoch: 2, iter: 139] Loss: 0.907 | Acc: 40.725%\n",
      "[epoch: 2, iter: 140] Loss: 0.906 | Acc: 46.710%\n",
      "[epoch: 2, iter: 141] Loss: 0.905 | Acc: 41.949%\n",
      "[epoch: 2, iter: 142] Loss: 0.904 | Acc: 43.687%\n",
      "[epoch: 2, iter: 143] Loss: 0.904 | Acc: 52.212%\n",
      "[epoch: 2, iter: 144] Loss: 0.903 | Acc: 46.342%\n",
      "[epoch: 2, iter: 145] Loss: 0.903 | Acc: 44.072%\n",
      "[epoch: 2, iter: 146] Loss: 0.904 | Acc: 31.370%\n",
      "[epoch: 2, iter: 147] Loss: 0.904 | Acc: 37.318%\n",
      "[epoch: 2, iter: 148] Loss: 0.904 | Acc: 45.775%\n",
      "[epoch: 2, iter: 149] Loss: 0.902 | Acc: 49.022%\n",
      "[epoch: 2, iter: 150] Loss: 0.901 | Acc: 40.271%\n",
      "[epoch: 2, iter: 151] Loss: 0.898 | Acc: 52.138%\n",
      "[epoch: 2, iter: 152] Loss: 0.897 | Acc: 52.039%\n",
      "[epoch: 2, iter: 153] Loss: 0.897 | Acc: 48.100%\n",
      "[epoch: 2, iter: 154] Loss: 0.897 | Acc: 36.945%\n",
      "[epoch: 2, iter: 155] Loss: 0.896 | Acc: 42.651%\n",
      "[epoch: 2, iter: 156] Loss: 0.896 | Acc: 44.672%\n",
      "[epoch: 2, iter: 157] Loss: 0.895 | Acc: 43.401%\n",
      "[epoch: 2, iter: 158] Loss: 0.894 | Acc: 39.167%\n",
      "[epoch: 2, iter: 159] Loss: 0.896 | Acc: 32.608%\n",
      "[epoch: 2, iter: 160] Loss: 0.896 | Acc: 37.134%\n",
      "[epoch: 2, iter: 161] Loss: 0.896 | Acc: 40.931%\n",
      "[epoch: 2, iter: 162] Loss: 0.896 | Acc: 44.707%\n",
      "Waiting Test!\n",
      "F1 Score: 34.072%\n",
      "\n",
      "Epoch: 3\n",
      "[epoch: 3, iter: 163] Loss: 0.820 | Acc: 49.643%\n",
      "[epoch: 3, iter: 164] Loss: 0.763 | Acc: 53.478%\n",
      "[epoch: 3, iter: 165] Loss: 0.745 | Acc: 45.865%\n",
      "[epoch: 3, iter: 166] Loss: 0.749 | Acc: 49.069%\n",
      "[epoch: 3, iter: 167] Loss: 0.746 | Acc: 51.564%\n",
      "[epoch: 3, iter: 168] Loss: 0.753 | Acc: 54.633%\n",
      "[epoch: 3, iter: 169] Loss: 0.743 | Acc: 55.471%\n",
      "[epoch: 3, iter: 170] Loss: 0.736 | Acc: 52.653%\n",
      "[epoch: 3, iter: 171] Loss: 0.736 | Acc: 54.793%\n",
      "[epoch: 3, iter: 172] Loss: 0.746 | Acc: 46.550%\n",
      "[epoch: 3, iter: 173] Loss: 0.743 | Acc: 50.518%\n",
      "[epoch: 3, iter: 174] Loss: 0.747 | Acc: 55.814%\n",
      "[epoch: 3, iter: 175] Loss: 0.748 | Acc: 49.656%\n",
      "[epoch: 3, iter: 176] Loss: 0.740 | Acc: 58.646%\n",
      "[epoch: 3, iter: 177] Loss: 0.740 | Acc: 44.658%\n",
      "[epoch: 3, iter: 178] Loss: 0.734 | Acc: 53.555%\n",
      "[epoch: 3, iter: 179] Loss: 0.724 | Acc: 65.013%\n",
      "[epoch: 3, iter: 180] Loss: 0.718 | Acc: 49.798%\n",
      "[epoch: 3, iter: 181] Loss: 0.719 | Acc: 47.533%\n",
      "[epoch: 3, iter: 182] Loss: 0.718 | Acc: 42.757%\n",
      "[epoch: 3, iter: 183] Loss: 0.716 | Acc: 55.763%\n",
      "[epoch: 3, iter: 184] Loss: 0.709 | Acc: 59.505%\n",
      "[epoch: 3, iter: 185] Loss: 0.709 | Acc: 47.605%\n",
      "[epoch: 3, iter: 186] Loss: 0.703 | Acc: 52.838%\n",
      "[epoch: 3, iter: 187] Loss: 0.705 | Acc: 50.414%\n",
      "[epoch: 3, iter: 188] Loss: 0.709 | Acc: 49.802%\n",
      "[epoch: 3, iter: 189] Loss: 0.707 | Acc: 58.309%\n",
      "[epoch: 3, iter: 190] Loss: 0.709 | Acc: 48.213%\n",
      "[epoch: 3, iter: 191] Loss: 0.706 | Acc: 39.790%\n",
      "[epoch: 3, iter: 192] Loss: 0.705 | Acc: 52.143%\n",
      "[epoch: 3, iter: 193] Loss: 0.698 | Acc: 56.900%\n",
      "[epoch: 3, iter: 194] Loss: 0.697 | Acc: 45.361%\n",
      "[epoch: 3, iter: 195] Loss: 0.699 | Acc: 46.136%\n",
      "[epoch: 3, iter: 196] Loss: 0.700 | Acc: 50.688%\n",
      "[epoch: 3, iter: 197] Loss: 0.696 | Acc: 53.967%\n",
      "[epoch: 3, iter: 198] Loss: 0.694 | Acc: 66.426%\n",
      "[epoch: 3, iter: 199] Loss: 0.694 | Acc: 50.686%\n",
      "[epoch: 3, iter: 200] Loss: 0.695 | Acc: 44.446%\n",
      "[epoch: 3, iter: 201] Loss: 0.697 | Acc: 52.375%\n",
      "[epoch: 3, iter: 202] Loss: 0.704 | Acc: 35.522%\n",
      "[epoch: 3, iter: 203] Loss: 0.706 | Acc: 42.259%\n",
      "[epoch: 3, iter: 204] Loss: 0.712 | Acc: 36.956%\n",
      "[epoch: 3, iter: 205] Loss: 0.715 | Acc: 53.920%\n",
      "[epoch: 3, iter: 206] Loss: 0.716 | Acc: 54.170%\n",
      "[epoch: 3, iter: 207] Loss: 0.716 | Acc: 52.638%\n",
      "[epoch: 3, iter: 208] Loss: 0.717 | Acc: 47.372%\n",
      "[epoch: 3, iter: 209] Loss: 0.717 | Acc: 66.840%\n",
      "[epoch: 3, iter: 210] Loss: 0.719 | Acc: 44.751%\n",
      "[epoch: 3, iter: 211] Loss: 0.722 | Acc: 41.209%\n",
      "[epoch: 3, iter: 212] Loss: 0.721 | Acc: 54.312%\n",
      "[epoch: 3, iter: 213] Loss: 0.722 | Acc: 54.305%\n",
      "[epoch: 3, iter: 214] Loss: 0.723 | Acc: 45.981%\n",
      "[epoch: 3, iter: 215] Loss: 0.723 | Acc: 47.075%\n",
      "[epoch: 3, iter: 216] Loss: 0.722 | Acc: 59.890%\n",
      "[epoch: 3, iter: 217] Loss: 0.719 | Acc: 46.869%\n",
      "[epoch: 3, iter: 218] Loss: 0.720 | Acc: 51.363%\n",
      "[epoch: 3, iter: 219] Loss: 0.725 | Acc: 36.552%\n",
      "[epoch: 3, iter: 220] Loss: 0.725 | Acc: 55.533%\n",
      "[epoch: 3, iter: 221] Loss: 0.726 | Acc: 33.244%\n",
      "[epoch: 3, iter: 222] Loss: 0.726 | Acc: 45.308%\n",
      "[epoch: 3, iter: 223] Loss: 0.729 | Acc: 41.370%\n",
      "[epoch: 3, iter: 224] Loss: 0.732 | Acc: 44.686%\n",
      "[epoch: 3, iter: 225] Loss: 0.732 | Acc: 47.249%\n",
      "[epoch: 3, iter: 226] Loss: 0.732 | Acc: 55.220%\n",
      "[epoch: 3, iter: 227] Loss: 0.731 | Acc: 53.774%\n",
      "[epoch: 3, iter: 228] Loss: 0.733 | Acc: 51.536%\n",
      "[epoch: 3, iter: 229] Loss: 0.733 | Acc: 47.781%\n",
      "[epoch: 3, iter: 230] Loss: 0.732 | Acc: 57.236%\n",
      "[epoch: 3, iter: 231] Loss: 0.734 | Acc: 47.331%\n",
      "[epoch: 3, iter: 232] Loss: 0.735 | Acc: 50.704%\n",
      "[epoch: 3, iter: 233] Loss: 0.733 | Acc: 59.628%\n",
      "[epoch: 3, iter: 234] Loss: 0.733 | Acc: 48.725%\n",
      "[epoch: 3, iter: 235] Loss: 0.734 | Acc: 46.167%\n",
      "[epoch: 3, iter: 236] Loss: 0.736 | Acc: 36.215%\n",
      "[epoch: 3, iter: 237] Loss: 0.737 | Acc: 44.439%\n",
      "[epoch: 3, iter: 238] Loss: 0.737 | Acc: 55.035%\n",
      "[epoch: 3, iter: 239] Loss: 0.736 | Acc: 56.437%\n",
      "[epoch: 3, iter: 240] Loss: 0.735 | Acc: 57.796%\n",
      "[epoch: 3, iter: 241] Loss: 0.736 | Acc: 39.550%\n",
      "[epoch: 3, iter: 242] Loss: 0.735 | Acc: 55.125%\n",
      "[epoch: 3, iter: 243] Loss: 0.733 | Acc: 62.746%\n",
      "Waiting Test!\n",
      "F1 Score: 35.555%\n",
      "\n",
      "Epoch: 4\n",
      "[epoch: 4, iter: 244] Loss: 0.655 | Acc: 60.572%\n",
      "[epoch: 4, iter: 245] Loss: 0.640 | Acc: 53.221%\n",
      "[epoch: 4, iter: 246] Loss: 0.669 | Acc: 49.504%\n",
      "[epoch: 4, iter: 247] Loss: 0.622 | Acc: 50.948%\n",
      "[epoch: 4, iter: 248] Loss: 0.612 | Acc: 55.233%\n",
      "[epoch: 4, iter: 249] Loss: 0.603 | Acc: 56.342%\n",
      "[epoch: 4, iter: 250] Loss: 0.608 | Acc: 62.511%\n",
      "[epoch: 4, iter: 251] Loss: 0.592 | Acc: 69.015%\n",
      "[epoch: 4, iter: 252] Loss: 0.594 | Acc: 54.880%\n",
      "[epoch: 4, iter: 253] Loss: 0.589 | Acc: 68.263%\n",
      "[epoch: 4, iter: 254] Loss: 0.592 | Acc: 57.026%\n",
      "[epoch: 4, iter: 255] Loss: 0.585 | Acc: 63.423%\n",
      "[epoch: 4, iter: 256] Loss: 0.573 | Acc: 57.892%\n",
      "[epoch: 4, iter: 257] Loss: 0.569 | Acc: 60.929%\n",
      "[epoch: 4, iter: 258] Loss: 0.559 | Acc: 62.234%\n",
      "[epoch: 4, iter: 259] Loss: 0.552 | Acc: 67.754%\n",
      "[epoch: 4, iter: 260] Loss: 0.544 | Acc: 78.760%\n",
      "[epoch: 4, iter: 261] Loss: 0.536 | Acc: 67.430%\n",
      "[epoch: 4, iter: 262] Loss: 0.536 | Acc: 59.782%\n",
      "[epoch: 4, iter: 263] Loss: 0.533 | Acc: 65.182%\n",
      "[epoch: 4, iter: 264] Loss: 0.527 | Acc: 70.561%\n",
      "[epoch: 4, iter: 265] Loss: 0.530 | Acc: 72.441%\n",
      "[epoch: 4, iter: 266] Loss: 0.527 | Acc: 57.122%\n",
      "[epoch: 4, iter: 267] Loss: 0.530 | Acc: 58.875%\n",
      "[epoch: 4, iter: 268] Loss: 0.529 | Acc: 58.160%\n",
      "[epoch: 4, iter: 269] Loss: 0.524 | Acc: 66.008%\n",
      "[epoch: 4, iter: 270] Loss: 0.519 | Acc: 78.612%\n",
      "[epoch: 4, iter: 271] Loss: 0.518 | Acc: 66.252%\n",
      "[epoch: 4, iter: 272] Loss: 0.517 | Acc: 52.910%\n",
      "[epoch: 4, iter: 273] Loss: 0.515 | Acc: 52.704%\n",
      "[epoch: 4, iter: 274] Loss: 0.514 | Acc: 70.681%\n",
      "[epoch: 4, iter: 275] Loss: 0.510 | Acc: 72.655%\n",
      "[epoch: 4, iter: 276] Loss: 0.512 | Acc: 60.330%\n",
      "[epoch: 4, iter: 277] Loss: 0.509 | Acc: 63.007%\n",
      "[epoch: 4, iter: 278] Loss: 0.510 | Acc: 55.476%\n",
      "[epoch: 4, iter: 279] Loss: 0.514 | Acc: 62.123%\n",
      "[epoch: 4, iter: 280] Loss: 0.512 | Acc: 71.637%\n",
      "[epoch: 4, iter: 281] Loss: 0.512 | Acc: 67.840%\n",
      "[epoch: 4, iter: 282] Loss: 0.515 | Acc: 57.405%\n",
      "[epoch: 4, iter: 283] Loss: 0.518 | Acc: 56.172%\n",
      "[epoch: 4, iter: 284] Loss: 0.522 | Acc: 48.245%\n",
      "[epoch: 4, iter: 285] Loss: 0.521 | Acc: 73.914%\n",
      "[epoch: 4, iter: 286] Loss: 0.524 | Acc: 60.993%\n",
      "[epoch: 4, iter: 287] Loss: 0.525 | Acc: 63.713%\n",
      "[epoch: 4, iter: 288] Loss: 0.526 | Acc: 55.902%\n",
      "[epoch: 4, iter: 289] Loss: 0.527 | Acc: 61.418%\n",
      "[epoch: 4, iter: 290] Loss: 0.526 | Acc: 50.130%\n",
      "[epoch: 4, iter: 291] Loss: 0.526 | Acc: 62.788%\n",
      "[epoch: 4, iter: 292] Loss: 0.524 | Acc: 64.663%\n",
      "[epoch: 4, iter: 293] Loss: 0.528 | Acc: 64.976%\n",
      "[epoch: 4, iter: 294] Loss: 0.531 | Acc: 50.354%\n",
      "[epoch: 4, iter: 295] Loss: 0.529 | Acc: 61.859%\n",
      "[epoch: 4, iter: 296] Loss: 0.528 | Acc: 69.392%\n",
      "[epoch: 4, iter: 297] Loss: 0.530 | Acc: 62.560%\n",
      "[epoch: 4, iter: 298] Loss: 0.531 | Acc: 53.579%\n",
      "[epoch: 4, iter: 299] Loss: 0.532 | Acc: 59.574%\n",
      "[epoch: 4, iter: 300] Loss: 0.534 | Acc: 54.475%\n",
      "[epoch: 4, iter: 301] Loss: 0.533 | Acc: 54.696%\n",
      "[epoch: 4, iter: 302] Loss: 0.533 | Acc: 69.462%\n",
      "[epoch: 4, iter: 303] Loss: 0.536 | Acc: 60.295%\n",
      "[epoch: 4, iter: 304] Loss: 0.539 | Acc: 48.373%\n",
      "[epoch: 4, iter: 305] Loss: 0.542 | Acc: 50.735%\n",
      "[epoch: 4, iter: 306] Loss: 0.543 | Acc: 58.810%\n",
      "[epoch: 4, iter: 307] Loss: 0.546 | Acc: 44.619%\n",
      "[epoch: 4, iter: 308] Loss: 0.548 | Acc: 55.494%\n",
      "[epoch: 4, iter: 309] Loss: 0.548 | Acc: 50.812%\n",
      "[epoch: 4, iter: 310] Loss: 0.548 | Acc: 62.720%\n",
      "[epoch: 4, iter: 311] Loss: 0.550 | Acc: 65.979%\n",
      "[epoch: 4, iter: 312] Loss: 0.552 | Acc: 59.403%\n",
      "[epoch: 4, iter: 313] Loss: 0.552 | Acc: 53.450%\n",
      "[epoch: 4, iter: 314] Loss: 0.554 | Acc: 64.626%\n",
      "[epoch: 4, iter: 315] Loss: 0.556 | Acc: 61.907%\n",
      "[epoch: 4, iter: 316] Loss: 0.558 | Acc: 67.775%\n",
      "[epoch: 4, iter: 317] Loss: 0.557 | Acc: 64.332%\n",
      "[epoch: 4, iter: 318] Loss: 0.560 | Acc: 64.257%\n",
      "[epoch: 4, iter: 319] Loss: 0.560 | Acc: 59.162%\n",
      "[epoch: 4, iter: 320] Loss: 0.561 | Acc: 48.931%\n",
      "[epoch: 4, iter: 321] Loss: 0.562 | Acc: 50.826%\n",
      "[epoch: 4, iter: 322] Loss: 0.564 | Acc: 50.343%\n",
      "[epoch: 4, iter: 323] Loss: 0.564 | Acc: 63.226%\n",
      "[epoch: 4, iter: 324] Loss: 0.565 | Acc: 47.233%\n",
      "Waiting Test!\n",
      "F1 Score: 46.247%\n",
      "Saving model......\n",
      "Training Finished, TotalEPOCH=4, best accuracy is: 46.247%\n"
     ]
    }
   ],
   "source": [
    "# Model instantiation\n",
    "model = resnet18()\n",
    "\n",
    "# [MNIST-only] change default in_channel from 3 to 1\n",
    "#model.conv1 = nn.Conv2d(1, 64, kernel_size=(7, 7), stride=(2, 2), padding=(3, 3), bias=False) \n",
    "\n",
    "# change fc layer \n",
    "# the number of classes in our dataset is 10. default is 1000.\n",
    "num_ftrs = model.fc.in_features\n",
    "model.fc = nn.Linear(num_ftrs, 10)\n",
    "\n",
    "model = model.to(device)\n",
    "\n",
    "# Loss function and optimizer\n",
    "criterion = nn.CrossEntropyLoss()\n",
    "#optim = optim.SGD(model.parameters(), lr=lr, momentum=0.9, weight_decay=5e-4) # mini-batch momentum-SGD\n",
    "optim = optim.Adam(model.parameters(), lr=lr)\n",
    "\n",
    "# decay LR by a factor of 0.1 every 5 epochs\n",
    "exp_lr_scheduler = lr_scheduler.StepLR(optim, step_size=5, gamma=0.1)\n",
    "\n",
    "\n",
    "# Train\n",
    "#------------------------------------------------------------\n",
    "# for loop to show how many epochs needed \n",
    "# # model.train()\n",
    "# # initial values for losses, accuracy, so on\n",
    "# # for loop to iterate data from train loader\n",
    "# # # fetch and move data to device\n",
    "# # # zero_grad optimizer\n",
    "# # # forward pass and backward propagation, and then optimize\n",
    "# # # print loss and accuracy every batch\n",
    "# # after one epoch, use test data to check accuracy\n",
    "# # with torch.no_grad()\n",
    "# # # initial values for accuracy and so on\n",
    "# # # for loop to iterate data from test loader\n",
    "# # # # model.eval()\n",
    "# # # # fetch and move data to device\n",
    "# # # # forward pass\n",
    "# # # # get the max from output\n",
    "# # # # record correct and total\n",
    "# # # calculate and print accuracy\n",
    "# # # save result\n",
    "# # # update best accuracy\n",
    "#---------------------------------------------------------------\n",
    "# initial value for best test accuracy\n",
    "best_acc = 0.10\n",
    "train_loss = []\n",
    "test_accuracy = []\n",
    "print(\"Start Training, Resnet-18!\")\n",
    " \n",
    "\n",
    "# for loop to show many epochs needed\n",
    "for epoch in range(epoch_count, epochs):\n",
    "    # print('\\nEpoch: %d' % (epoch + 1)) # %-string\n",
    "    print('\\nEpoch: {0}'.format(epoch + 1))   # {[index]:[width][.precision][type]}\n",
    "    model.train()\n",
    "    sum_loss = 0.0\n",
    "    correct = 0.0\n",
    "    total = 0.0\n",
    "    for i, data in enumerate(trainloader, 0):\n",
    "        # Preparing data\n",
    "        length = len(trainloader)\n",
    "        inputs, labels = data\n",
    "        inputs, labels = inputs.to(device), labels.to(device)\n",
    "        optim.zero_grad()\n",
    "\n",
    "        # forward + backward\n",
    "        outputs = model(inputs)\n",
    "        loss = criterion(outputs, labels)\n",
    "        loss.backward()\n",
    "        optim.step()\n",
    "\n",
    "        # print loss and accuracy every batch\n",
    "        sum_loss += loss.item()\n",
    "        _, predicted = torch.max(outputs.data, 1)\n",
    "        #total += labels.size(0)\n",
    "        #correct += predicted.eq(labels.data).cpu().sum()\n",
    "        labels = labels.cpu().numpy()\n",
    "        predicted = predicted.cpu().numpy()\n",
    "        print('[epoch: {0}, iter: {1}] Loss: {2:.3f} | Acc: {3:.3%}'.format(\n",
    "            epoch + 1, \n",
    "            i + 1 + epoch * length, \n",
    "            sum_loss / (i + 1), \n",
    "            metrics.f1_score(labels, predicted, average='macro'),))\n",
    "        #f2.write('%03d  %05d |Loss: %.03f | Acc: %.3f%% '\n",
    "              #% (epoch + 1, (i + 1 + epoch * length), sum_loss / (i + 1), 100. * correct / total))\n",
    "        #f2.write('\\n')\n",
    "        #f2.flush()\n",
    "\n",
    "    # test accuracy after every epoch\n",
    "    print(\"Waiting Test!\")\n",
    "    with torch.no_grad():\n",
    "        #correct = 0\n",
    "        #total = 0\n",
    "        for data in validloader:\n",
    "            model.eval()\n",
    "            images, labels = data\n",
    "            images, labels = images.to(device), labels.to(device)\n",
    "            outputs = model(images)\n",
    "            _, predicted = torch.max(outputs.data, dim=1)\n",
    "            #total += labels.size(0)\n",
    "            #correct += (predicted == labels).sum()\n",
    "            labels = labels.cpu().numpy()\n",
    "            predicted = predicted.cpu().numpy()\n",
    "            f1 = metrics.f1_score(labels, predicted, average='macro')\n",
    "       \n",
    "        print('F1 Score: {:.3%}'.format(f1))\n",
    "        acc = f1\n",
    "        acc = acc.item()\n",
    "        test_accuracy.append(acc)\n",
    "        \n",
    "        \n",
    "        #torch.save(model.state_dict(), '%s/net_%03d.pth' % (args.outf, epoch + 1))\n",
    "        \n",
    "        #f.write(\"EPOCH=%03d,Accuracy= %.3f%%\" % (epoch + 1, acc))\n",
    "        #f.write('\\n')\n",
    "        #f.flush()\n",
    "        \n",
    "        if acc > best_acc:\n",
    "            #f3 = open(\"best_acc.txt\", \"w\")\n",
    "            #f3.write(\"EPOCH=%d,best_acc= %.3f%%\" % (epoch + 1, acc))\n",
    "            #f3.close()\n",
    "            best_acc = acc\n",
    "            print('Saving model......')\n",
    "            torch.save(model.state_dict(), '/kaggle/working/bst_model.pth'.format(epoch + 1))\n",
    "            \n",
    "\n",
    "torch.save(model.state_dict(), '/kaggle/working/final_model.pth')\n",
    "print('Training Finished, TotalEPOCH={}, best accuracy is: {:.3%}'.format(epochs, best_acc))\n"
   ]
  },
  {
   "cell_type": "code",
   "execution_count": 8,
   "id": "1749a271",
   "metadata": {
    "execution": {
     "iopub.execute_input": "2023-09-15T04:37:05.295952Z",
     "iopub.status.busy": "2023-09-15T04:37:05.295239Z",
     "iopub.status.idle": "2023-09-15T04:37:05.304193Z",
     "shell.execute_reply": "2023-09-15T04:37:05.303005Z"
    },
    "papermill": {
     "duration": 0.036046,
     "end_time": "2023-09-15T04:37:05.306839",
     "exception": false,
     "start_time": "2023-09-15T04:37:05.270793",
     "status": "completed"
    },
    "tags": []
   },
   "outputs": [
    {
     "data": {
      "text/plain": [
       "[0.35977824806772174,\n",
       " 0.3407192379355683,\n",
       " 0.3555461590770146,\n",
       " 0.46246800088232326]"
      ]
     },
     "execution_count": 8,
     "metadata": {},
     "output_type": "execute_result"
    }
   ],
   "source": [
    "test_accuracy"
   ]
  },
  {
   "cell_type": "markdown",
   "id": "7ede98ca",
   "metadata": {
    "papermill": {
     "duration": 0.022286,
     "end_time": "2023-09-15T04:37:05.351921",
     "exception": false,
     "start_time": "2023-09-15T04:37:05.329635",
     "status": "completed"
    },
    "tags": []
   },
   "source": [
    "# 繪圖"
   ]
  },
  {
   "cell_type": "code",
   "execution_count": 9,
   "id": "593d7b37",
   "metadata": {
    "execution": {
     "iopub.execute_input": "2023-09-15T04:37:05.411356Z",
     "iopub.status.busy": "2023-09-15T04:37:05.410956Z",
     "iopub.status.idle": "2023-09-15T04:37:05.699276Z",
     "shell.execute_reply": "2023-09-15T04:37:05.698314Z"
    },
    "papermill": {
     "duration": 0.319209,
     "end_time": "2023-09-15T04:37:05.701223",
     "exception": false,
     "start_time": "2023-09-15T04:37:05.382014",
     "status": "completed"
    },
    "tags": []
   },
   "outputs": [
    {
     "data": {
      "image/png": "[encoded data removed]",
      "text/plain": [
       "<Figure size 720x360 with 1 Axes>"
      ]
     },
     "metadata": {
      "needs_background": "light"
     },
     "output_type": "display_data"
    }
   ],
   "source": [
    "# Drawing\n",
    "\n",
    "import matplotlib.pyplot as plt\n",
    "%matplotlib inline \n",
    "\n",
    "plt.rcParams[\"figure.figsize\"] = [7.00, 3.50]\n",
    "plt.rcParams[\"figure.autolayout\"] = True\n",
    "\n",
    "plt.figure(figsize=(10,5))\n",
    "plt.title(\"Test Accuracy Every Epoch\")\n",
    "plt.plot(test_accuracy,label=\"Accuracy\")\n",
    "plt.xlabel(\"epochs\")\n",
    "plt.ylabel(\"Test Accuracy\")\n",
    "plt.legend()\n",
    "plt.savefig('Accuracy.png')\n",
    "plt.show()"
   ]
  },
  {
   "cell_type": "code",
   "execution_count": 10,
   "id": "2952f38a",
   "metadata": {
    "execution": {
     "iopub.execute_input": "2023-09-15T04:37:05.748081Z",
     "iopub.status.busy": "2023-09-15T04:37:05.747423Z",
     "iopub.status.idle": "2023-09-15T04:37:05.755338Z",
     "shell.execute_reply": "2023-09-15T04:37:05.753608Z"
    },
    "papermill": {
     "duration": 0.034751,
     "end_time": "2023-09-15T04:37:05.758341",
     "exception": false,
     "start_time": "2023-09-15T04:37:05.723590",
     "status": "completed"
    },
    "tags": []
   },
   "outputs": [],
   "source": [
    "np.savetxt('results.txt', np.array(test_accuracy))"
   ]
  },
  {
   "cell_type": "code",
   "execution_count": 11,
   "id": "8103b6e7",
   "metadata": {
    "execution": {
     "iopub.execute_input": "2023-09-15T04:37:05.805907Z",
     "iopub.status.busy": "2023-09-15T04:37:05.805411Z",
     "iopub.status.idle": "2023-09-15T04:37:05.811674Z",
     "shell.execute_reply": "2023-09-15T04:37:05.809935Z"
    },
    "papermill": {
     "duration": 0.032461,
     "end_time": "2023-09-15T04:37:05.813621",
     "exception": false,
     "start_time": "2023-09-15T04:37:05.781160",
     "status": "completed"
    },
    "tags": []
   },
   "outputs": [
    {
     "name": "stdout",
     "output_type": "stream",
     "text": [
      "0.37962791149065694\n"
     ]
    }
   ],
   "source": [
    "avg = sum(test_accuracy)/len(test_accuracy)\n",
    "print(avg)"
   ]
  },
  {
   "cell_type": "code",
   "execution_count": null,
   "id": "aa8338f1",
   "metadata": {
    "papermill": {
     "duration": 0.022001,
     "end_time": "2023-09-15T04:37:05.858241",
     "exception": false,
     "start_time": "2023-09-15T04:37:05.836240",
     "status": "completed"
    },
    "tags": []
   },
   "outputs": [],
   "source": []
  },
  {
   "cell_type": "code",
   "execution_count": null,
   "id": "20d80376",
   "metadata": {
    "papermill": {
     "duration": 0.023078,
     "end_time": "2023-09-15T04:37:05.905469",
     "exception": false,
     "start_time": "2023-09-15T04:37:05.882391",
     "status": "completed"
    },
    "tags": []
   },
   "outputs": [],
   "source": []
  }
 ],
 "metadata": {
  "kernelspec": {
   "display_name": "Python 3",
   "language": "python",
   "name": "python3"
  },
  "language_info": {
   "codemirror_mode": {
    "name": "ipython",
    "version": 3
   },
   "file_extension": ".py",
   "mimetype": "text/x-python",
   "name": "python",
   "nbconvert_exporter": "python",
   "pygments_lexer": "ipython3",
   "version": "3.7.12"
  },
  "papermill": {
   "default_parameters": {},
   "duration": 327.772683,
   "end_time": "2023-09-15T04:37:06.851487",
   "environment_variables": {},
   "exception": null,
   "input_path": "__notebook__.ipynb",
   "output_path": "__notebook__.ipynb",
   "parameters": {},
   "start_time": "2023-09-15T04:31:39.078804",
   "version": "2.3.4"
  }
 },
 "nbformat": 4,
 "nbformat_minor": 5
}
