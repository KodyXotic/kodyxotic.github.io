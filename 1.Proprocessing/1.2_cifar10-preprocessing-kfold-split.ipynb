{
 "cells": [
  {
   "cell_type": "code",
   "execution_count": 1,
   "id": "d299e9d1",
   "metadata": {
    "_cell_guid": "b1076dfc-b9ad-4769-8c92-a6c4dae69d19",
    "_uuid": "8f2839f25d086af736a60e9eeb907d3b93b6e0e5",
    "execution": {
     "iopub.execute_input": "2023-03-19T03:33:40.092947Z",
     "iopub.status.busy": "2023-03-19T03:33:40.092479Z",
     "iopub.status.idle": "2023-03-19T03:33:40.133669Z",
     "shell.execute_reply": "2023-03-19T03:33:40.132807Z"
    },
    "papermill": {
     "duration": 0.049839,
     "end_time": "2023-03-19T03:33:40.136702",
     "exception": false,
     "start_time": "2023-03-19T03:33:40.086863",
     "status": "completed"
    },
    "tags": []
   },
   "outputs": [
    {
     "name": "stdout",
     "output_type": "stream",
     "text": [
      "/kaggle/input/cifar10-tar-gz/cifar-10-batches-py/data_batch_1\n",
      "/kaggle/input/cifar10-tar-gz/cifar-10-batches-py/data_batch_2\n",
      "/kaggle/input/cifar10-tar-gz/cifar-10-batches-py/batches.meta\n",
      "/kaggle/input/cifar10-tar-gz/cifar-10-batches-py/test_batch\n",
      "/kaggle/input/cifar10-tar-gz/cifar-10-batches-py/data_batch_3\n",
      "/kaggle/input/cifar10-tar-gz/cifar-10-batches-py/data_batch_5\n",
      "/kaggle/input/cifar10-tar-gz/cifar-10-batches-py/data_batch_4\n",
      "/kaggle/input/cifar10-tar-gz/cifar-10-batches-py/readme.html\n"
     ]
    }
   ],
   "source": [
    "# This Python 3 environment comes with many helpful analytics libraries installed\n",
    "# It is defined by the kaggle/python Docker image: https://github.com/kaggle/docker-python\n",
    "# For example, here's several helpful packages to load\n",
    "\n",
    "import numpy as np # linear algebra\n",
    "import pandas as pd # data processing, CSV file I/O (e.g. pd.read_csv)\n",
    "\n",
    "# Input data files are available in the read-only \"../input/\" directory\n",
    "# For example, running this (by clicking run or pressing Shift+Enter) will list all files under the input directory\n",
    "\n",
    "import os\n",
    "for dirname, _, filenames in os.walk('/kaggle/input'):\n",
    "    for filename in filenames:\n",
    "        print(os.path.join(dirname, filename))\n",
    "\n",
    "# You can write up to 20GB to the current directory (/kaggle/working/) that gets preserved as output when you create a version using \"Save & Run All\" \n",
    "# You can also write temporary files to /kaggle/temp/, but they won't be saved outside of the current session"
   ]
  },
  {
   "cell_type": "code",
   "execution_count": 2,
   "id": "b57a26a3",
   "metadata": {
    "execution": {
     "iopub.execute_input": "2023-03-19T03:33:40.143897Z",
     "iopub.status.busy": "2023-03-19T03:33:40.143512Z",
     "iopub.status.idle": "2023-03-19T03:33:41.562317Z",
     "shell.execute_reply": "2023-03-19T03:33:41.561292Z"
    },
    "papermill": {
     "duration": 1.425381,
     "end_time": "2023-03-19T03:33:41.564924",
     "exception": false,
     "start_time": "2023-03-19T03:33:40.139543",
     "status": "completed"
    },
    "tags": []
   },
   "outputs": [],
   "source": [
    "import matplotlib.pyplot as plt\n",
    "import pickle\n",
    "from sklearn.model_selection import KFold\n",
    "\n",
    "def unpickle(file):\n",
    "    with open(file, 'rb') as fo:\n",
    "        dict = pickle.load(fo, encoding='bytes')\n",
    "    return dict\n",
    "\n",
    "#normalization\n",
    "def normalize(a):\n",
    "    norm = (a - np.amin(a)) / (np.amax(a) - np.amin(a))\n",
    "    norm = 2 * norm - 1\n",
    "    print('min of array: ',np.amin(a))\n",
    "    print('max of array: ',np.amax(a))\n",
    "    return norm\n",
    "\n",
    "classes = ('plane', 'car', 'bird', 'cat', 'deer', 'dog', 'frog', 'horse', 'ship', 'truck')\n",
    "\n",
    "# imbalance distribution\n",
    "# training data\n",
    "imb_list = [\n",
    "    4500,\n",
    "    2000,\n",
    "    1000,\n",
    "    800,\n",
    "    600,\n",
    "    500,\n",
    "    400,\n",
    "    250,\n",
    "    150,\n",
    "    80, ] \n",
    "\n",
    "'''# imbalance data for imbalanced test\n",
    "imb_list = [\n",
    "    1000,\n",
    "    500,\n",
    "    250,\n",
    "    187,\n",
    "    125,\n",
    "    87,\n",
    "    50,\n",
    "    25,\n",
    "    15,\n",
    "    10, ] '''\n",
    "\n",
    "'''# balance data for balanced test\n",
    "imb_list = [\n",
    "    1000,\n",
    "    1000,\n",
    "    1000,\n",
    "    1000,\n",
    "    1000,\n",
    "    1000,\n",
    "    1000,\n",
    "    1000,\n",
    "    1000,\n",
    "    1000, ] '''\n",
    "\n",
    "# small training data\n",
    "'''imb_list = [\n",
    "    350,\n",
    "    200,\n",
    "    100,\n",
    "    80,\n",
    "    60,\n",
    "    50,\n",
    "    40,\n",
    "    25,\n",
    "    15,\n",
    "    8, ] '''\n",
    "\n",
    "# KFold Parameter\n",
    "args = {}\n",
    "args['k'] = 5\n",
    "args['seed'] = 41"
   ]
  },
  {
   "cell_type": "code",
   "execution_count": 3,
   "id": "131e73d7",
   "metadata": {
    "execution": {
     "iopub.execute_input": "2023-03-19T03:33:41.572652Z",
     "iopub.status.busy": "2023-03-19T03:33:41.571607Z",
     "iopub.status.idle": "2023-03-19T03:33:42.900502Z",
     "shell.execute_reply": "2023-03-19T03:33:42.899471Z"
    },
    "papermill": {
     "duration": 1.335512,
     "end_time": "2023-03-19T03:33:42.903161",
     "exception": false,
     "start_time": "2023-03-19T03:33:41.567649",
     "status": "completed"
    },
    "tags": []
   },
   "outputs": [
    {
     "name": "stdout",
     "output_type": "stream",
     "text": [
      "['batches.meta', 'data_batch_1', 'data_batch_2', 'data_batch_3', 'data_batch_4', 'data_batch_5', 'readme.html', 'test_batch']\n",
      "dict_keys([b'batch_label', b'labels', b'data', b'filenames'])\n",
      "b'finch_s_000494.png'\n",
      "(3, 32, 32)\n",
      "(32, 32, 3)\n",
      "bird\n"
     ]
    },
    {
     "data": {
      "text/plain": [
       "<matplotlib.image.AxesImage at 0x7f73191f49d0>"
      ]
     },
     "execution_count": 3,
     "metadata": {},
     "output_type": "execute_result"
    },
    {
     "data": {
      "image/png": "[encoded data removed]",
      "text/plain": [
       "<Figure size 432x288 with 1 Axes>"
      ]
     },
     "metadata": {
      "needs_background": "light"
     },
     "output_type": "display_data"
    }
   ],
   "source": [
    "# Read Input Data\n",
    "path = '/kaggle/input/cifar10-tar-gz/cifar-10-batches-py'\n",
    "files = os.listdir(path)\n",
    "files.sort()\n",
    "print(files)\n",
    "\n",
    "file = os.path.join(path, files[1])\n",
    "#file = os.path.join(path, files[7]) # for testset data\n",
    "data_dict = unpickle(file)\n",
    "print(data_dict.keys())\n",
    "\n",
    "# Draw a picture\n",
    "n = 356\n",
    "image = data_dict[b'data'][n]\n",
    "label = data_dict[b'labels'][n]\n",
    "print(data_dict[b'filenames'][n])\n",
    "image_cf = image.reshape(3,32,32)\n",
    "print(image_cf.shape)\n",
    "image_cl = np.moveaxis(image_cf, 0, -1)\n",
    "print(image_cl.shape)\n",
    "print(classes[label])\n",
    "plt.imshow(image_cl)"
   ]
  },
  {
   "cell_type": "code",
   "execution_count": 4,
   "id": "a826ce1a",
   "metadata": {
    "execution": {
     "iopub.execute_input": "2023-03-19T03:33:42.912182Z",
     "iopub.status.busy": "2023-03-19T03:33:42.911021Z",
     "iopub.status.idle": "2023-03-19T03:33:48.463907Z",
     "shell.execute_reply": "2023-03-19T03:33:48.462374Z"
    },
    "papermill": {
     "duration": 5.560863,
     "end_time": "2023-03-19T03:33:48.467332",
     "exception": false,
     "start_time": "2023-03-19T03:33:42.906469",
     "status": "completed"
    },
    "tags": []
   },
   "outputs": [
    {
     "name": "stdout",
     "output_type": "stream",
     "text": [
      "/kaggle/input/cifar10-tar-gz/cifar-10-batches-py/data_batch_1\n",
      "(10000, 3072)\n",
      "(10000,)\n",
      "/kaggle/input/cifar10-tar-gz/cifar-10-batches-py/data_batch_2\n",
      "/kaggle/input/cifar10-tar-gz/cifar-10-batches-py/data_batch_3\n",
      "/kaggle/input/cifar10-tar-gz/cifar-10-batches-py/data_batch_4\n",
      "/kaggle/input/cifar10-tar-gz/cifar-10-batches-py/data_batch_5\n",
      "(50000, 3072)\n",
      "(50000,)\n",
      "img max before norm:  255\n",
      "img min before norm:  0\n",
      "min of array:  0\n",
      "max of array:  255\n",
      "img max after norm:  1.0\n",
      "img min after norm:  -1.0\n"
     ]
    }
   ],
   "source": [
    "\n",
    "# Merge data array and label array\n",
    "\n",
    "file = os.path.join(path, files[1])\n",
    "#file = os.path.join(path, files[7]) # for testset data\n",
    "print(file)\n",
    "data_dict = unpickle(file)\n",
    "data_arr = data_dict[b'data']\n",
    "label_arr = np.array(data_dict[b'labels'])\n",
    "print(data_arr.shape)\n",
    "print(label_arr.shape)\n",
    "\n",
    "for i in range(4):\n",
    "    file = os.path.join(path, files[i+2])\n",
    "    print(file)\n",
    "    data_dict = unpickle(file)\n",
    "    data_arr = np.append(data_arr, data_dict[b'data'], axis=0)\n",
    "    label_arr = np.append(label_arr, np.array(data_dict[b'labels']), axis=0)\n",
    "    \n",
    "print(data_arr.shape)\n",
    "print(label_arr.shape) \n",
    "\n",
    "m=0\n",
    "img = data_arr[m]\n",
    "print('img max before norm: ',img.max())\n",
    "print('img min before norm: ',img.min())\n",
    "\n",
    "# Normalize\n",
    "data_arr = normalize(data_arr)\n",
    "\n",
    "n=0\n",
    "img = data_arr[n]\n",
    "print('img max after norm: ',img.max())\n",
    "print('img min after norm: ',img.min())"
   ]
  },
  {
   "cell_type": "code",
   "execution_count": 5,
   "id": "2bd0d9c8",
   "metadata": {
    "execution": {
     "iopub.execute_input": "2023-03-19T03:33:48.480708Z",
     "iopub.status.busy": "2023-03-19T03:33:48.480266Z",
     "iopub.status.idle": "2023-03-19T04:16:32.935181Z",
     "shell.execute_reply": "2023-03-19T04:16:32.933788Z"
    },
    "papermill": {
     "duration": 2564.467373,
     "end_time": "2023-03-19T04:16:32.940144",
     "exception": false,
     "start_time": "2023-03-19T03:33:48.472771",
     "status": "completed"
    },
    "tags": []
   },
   "outputs": [
    {
     "name": "stdout",
     "output_type": "stream",
     "text": [
      "0 Fold Start...\n",
      "(40000, 3072)\n",
      "(10000, 3072)\n",
      "0 Fold End...\n",
      "1 Fold Start...\n",
      "(40000, 3072)\n",
      "(10000, 3072)\n",
      "1 Fold End...\n",
      "2 Fold Start...\n",
      "(40000, 3072)\n",
      "(10000, 3072)\n",
      "2 Fold End...\n",
      "3 Fold Start...\n",
      "(40000, 3072)\n",
      "(10000, 3072)\n",
      "3 Fold End...\n",
      "4 Fold Start...\n",
      "(40000, 3072)\n",
      "(10000, 3072)\n",
      "4 Fold End...\n",
      "Done.\n"
     ]
    }
   ],
   "source": [
    "# KFold\n",
    "kf = KFold(n_splits=args['k'], shuffle=True, random_state=args['seed'])\n",
    "\n",
    "for k, (train_idx, valid_idx) in enumerate(kf.split(data_arr, label_arr)):\n",
    "    print('{} Fold Start...'.format(k))\n",
    "    data_train_fold = data_arr[train_idx]\n",
    "    print(data_train_fold.shape)\n",
    "    data_valid_fold = data_arr[valid_idx]\n",
    "    print(data_valid_fold.shape)\n",
    "    label_train_fold = label_arr[train_idx]\n",
    "    label_valid_fold = label_arr[valid_idx]\n",
    "    fname_dtf = str(k) + '_train_data.gz'\n",
    "    fname_dvf = str(k) + '_valid_data.gz'\n",
    "    fname_ltf = str(k) + '_train_label.gz'\n",
    "    fname_lvf = str(k) + '_valid_label.gz'\n",
    "    np.savetxt(fname_dtf, data_train_fold)\n",
    "    np.savetxt(fname_dvf, data_valid_fold)\n",
    "    np.savetxt(fname_ltf, label_train_fold)\n",
    "    np.savetxt(fname_lvf, label_valid_fold)\n",
    "    print('{} Fold End...'.format(k))\n",
    "    \n",
    "print('Done.')\n",
    "    \n"
   ]
  }
 ],
 "metadata": {
  "kernelspec": {
   "display_name": "Python 3",
   "language": "python",
   "name": "python3"
  },
  "language_info": {
   "codemirror_mode": {
    "name": "ipython",
    "version": 3
   },
   "file_extension": ".py",
   "mimetype": "text/x-python",
   "name": "python",
   "nbconvert_exporter": "python",
   "pygments_lexer": "ipython3",
   "version": "3.7.12"
  },
  "papermill": {
   "default_parameters": {},
   "duration": 2585.28908,
   "end_time": "2023-03-19T04:16:33.875109",
   "environment_variables": {},
   "exception": null,
   "input_path": "__notebook__.ipynb",
   "output_path": "__notebook__.ipynb",
   "parameters": {},
   "start_time": "2023-03-19T03:33:28.586029",
   "version": "2.3.4"
  }
 },
 "nbformat": 4,
 "nbformat_minor": 5
}
